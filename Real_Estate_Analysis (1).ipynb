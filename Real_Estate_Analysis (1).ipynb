{
 "cells": [
  {
   "cell_type": "markdown",
   "id": "d92fb9ef",
   "metadata": {},
   "source": [
    "# Property Sales in Edison Town, USA\n",
    "\n",
    "This dataset contains property sale prices for Edison town. It includes Property sold between Jan 2018 and Aug 2021."
   ]
  },
  {
   "cell_type": "code",
   "execution_count": 1,
   "id": "93129911",
   "metadata": {},
   "outputs": [
    {
     "data": {
      "text/html": [
       "        <script type=\"text/javascript\">\n",
       "        window.PlotlyConfig = {MathJaxConfig: 'local'};\n",
       "        if (window.MathJax) {MathJax.Hub.Config({SVG: {font: \"STIX-Web\"}});}\n",
       "        if (typeof require !== 'undefined') {\n",
       "        require.undef(\"plotly\");\n",
       "        requirejs.config({\n",
       "            paths: {\n",
       "                'plotly': ['https://cdn.plot.ly/plotly-2.1.0.min']\n",
       "            }\n",
       "        });\n",
       "        require(['plotly'], function(Plotly) {\n",
       "            window._Plotly = Plotly;\n",
       "        });\n",
       "        }\n",
       "        </script>\n",
       "        "
      ]
     },
     "metadata": {},
     "output_type": "display_data"
    },
    {
     "data": {
      "text/html": [
       "        <script type=\"text/javascript\">\n",
       "        window.PlotlyConfig = {MathJaxConfig: 'local'};\n",
       "        if (window.MathJax) {MathJax.Hub.Config({SVG: {font: \"STIX-Web\"}});}\n",
       "        if (typeof require !== 'undefined') {\n",
       "        require.undef(\"plotly\");\n",
       "        requirejs.config({\n",
       "            paths: {\n",
       "                'plotly': ['https://cdn.plot.ly/plotly-2.1.0.min']\n",
       "            }\n",
       "        });\n",
       "        require(['plotly'], function(Plotly) {\n",
       "            window._Plotly = Plotly;\n",
       "        });\n",
       "        }\n",
       "        </script>\n",
       "        "
      ]
     },
     "metadata": {},
     "output_type": "display_data"
    },
    {
     "data": {
      "text/html": [
       "        <script type=\"text/javascript\">\n",
       "        window.PlotlyConfig = {MathJaxConfig: 'local'};\n",
       "        if (window.MathJax) {MathJax.Hub.Config({SVG: {font: \"STIX-Web\"}});}\n",
       "        if (typeof require !== 'undefined') {\n",
       "        require.undef(\"plotly\");\n",
       "        requirejs.config({\n",
       "            paths: {\n",
       "                'plotly': ['https://cdn.plot.ly/plotly-2.1.0.min']\n",
       "            }\n",
       "        });\n",
       "        require(['plotly'], function(Plotly) {\n",
       "            window._Plotly = Plotly;\n",
       "        });\n",
       "        }\n",
       "        </script>\n",
       "        "
      ]
     },
     "metadata": {},
     "output_type": "display_data"
    },
    {
     "data": {
      "text/html": [
       "        <script type=\"text/javascript\">\n",
       "        window.PlotlyConfig = {MathJaxConfig: 'local'};\n",
       "        if (window.MathJax) {MathJax.Hub.Config({SVG: {font: \"STIX-Web\"}});}\n",
       "        if (typeof require !== 'undefined') {\n",
       "        require.undef(\"plotly\");\n",
       "        requirejs.config({\n",
       "            paths: {\n",
       "                'plotly': ['https://cdn.plot.ly/plotly-2.1.0.min']\n",
       "            }\n",
       "        });\n",
       "        require(['plotly'], function(Plotly) {\n",
       "            window._Plotly = Plotly;\n",
       "        });\n",
       "        }\n",
       "        </script>\n",
       "        "
      ]
     },
     "metadata": {},
     "output_type": "display_data"
    },
    {
     "data": {
      "text/html": [
       "        <script type=\"text/javascript\">\n",
       "        window.PlotlyConfig = {MathJaxConfig: 'local'};\n",
       "        if (window.MathJax) {MathJax.Hub.Config({SVG: {font: \"STIX-Web\"}});}\n",
       "        if (typeof require !== 'undefined') {\n",
       "        require.undef(\"plotly\");\n",
       "        requirejs.config({\n",
       "            paths: {\n",
       "                'plotly': ['https://cdn.plot.ly/plotly-2.1.0.min']\n",
       "            }\n",
       "        });\n",
       "        require(['plotly'], function(Plotly) {\n",
       "            window._Plotly = Plotly;\n",
       "        });\n",
       "        }\n",
       "        </script>\n",
       "        "
      ]
     },
     "metadata": {},
     "output_type": "display_data"
    },
    {
     "data": {
      "text/html": [
       "        <script type=\"text/javascript\">\n",
       "        window.PlotlyConfig = {MathJaxConfig: 'local'};\n",
       "        if (window.MathJax) {MathJax.Hub.Config({SVG: {font: \"STIX-Web\"}});}\n",
       "        if (typeof require !== 'undefined') {\n",
       "        require.undef(\"plotly\");\n",
       "        requirejs.config({\n",
       "            paths: {\n",
       "                'plotly': ['https://cdn.plot.ly/plotly-2.1.0.min']\n",
       "            }\n",
       "        });\n",
       "        require(['plotly'], function(Plotly) {\n",
       "            window._Plotly = Plotly;\n",
       "        });\n",
       "        }\n",
       "        </script>\n",
       "        "
      ]
     },
     "metadata": {},
     "output_type": "display_data"
    }
   ],
   "source": [
    "#Import the following libraries\n",
    "\n",
    "import pandas as pd\n",
    "import numpy as np\n",
    "import matplotlib.pyplot as plt\n",
    "from pandas_profiling import ProfileReport\n",
    "import time\n",
    "import warnings\n",
    "warnings.filterwarnings(\"ignore\")\n",
    "from geopy.geocoders import Nominatim\n",
    "import time\n",
    "from pprint import pprint\n",
    "import seaborn as sns\n",
    "import plotly.express as px\n",
    "from datetime import date\n",
    "%matplotlib inline\n",
    "from sorted_months_weekdays import *\n",
    "from sort_dataframeby_monthorweek import *\n",
    "import cufflinks as cf\n",
    "cf.go_offline()\n",
    "cf.set_config_file(offline=False, world_readable=True)\n",
    "from plotly.offline import init_notebook_mode, iplot\n",
    "import plotly.graph_objects as go\n",
    "from plotly import tools\n",
    "import plotly as py\n",
    "\n",
    "import SupplyVsDemand as sd\n",
    "import pricebinning as pb\n",
    "import livingsquarefootbinning as lsb\n",
    "import housingtype as hb\n",
    "import FactorsAffectingPropertySale as fp\n",
    "import directionfacesbinning as df\n",
    "\n",
    "import warnings\n",
    "warnings.filterwarnings(\"ignore\")\n",
    "import os\n",
    "\n"
   ]
  },
  {
   "cell_type": "markdown",
   "id": "f569a216",
   "metadata": {},
   "source": [
    "# 1.0 Exploratory Data Analysis (EDA)"
   ]
  },
  {
   "cell_type": "markdown",
   "id": "00f2cddb",
   "metadata": {},
   "source": [
    "Question 1 Display Statistical summary for numeric data include things like the mean, min, and max of the data."
   ]
  },
  {
   "cell_type": "code",
   "execution_count": 2,
   "id": "9510e7ea",
   "metadata": {},
   "outputs": [
    {
     "data": {
      "text/html": [
       "<div>\n",
       "<style scoped>\n",
       "    .dataframe tbody tr th:only-of-type {\n",
       "        vertical-align: middle;\n",
       "    }\n",
       "\n",
       "    .dataframe tbody tr th {\n",
       "        vertical-align: top;\n",
       "    }\n",
       "\n",
       "    .dataframe thead th {\n",
       "        text-align: right;\n",
       "    }\n",
       "</style>\n",
       "<table border=\"1\" class=\"dataframe\">\n",
       "  <thead>\n",
       "    <tr style=\"text-align: right;\">\n",
       "      <th></th>\n",
       "      <th>count</th>\n",
       "      <th>mean</th>\n",
       "      <th>std</th>\n",
       "      <th>min</th>\n",
       "      <th>25%</th>\n",
       "      <th>50%</th>\n",
       "      <th>75%</th>\n",
       "      <th>max</th>\n",
       "    </tr>\n",
       "  </thead>\n",
       "  <tbody>\n",
       "    <tr>\n",
       "      <th>Property_id</th>\n",
       "      <td>2092.0</td>\n",
       "      <td>1081.950765</td>\n",
       "      <td>640.128887</td>\n",
       "      <td>0.000000</td>\n",
       "      <td>525.750000</td>\n",
       "      <td>1058.500000</td>\n",
       "      <td>1661.250000</td>\n",
       "      <td>2.186000e+03</td>\n",
       "    </tr>\n",
       "    <tr>\n",
       "      <th>BedroomsTotal</th>\n",
       "      <td>2092.0</td>\n",
       "      <td>2.916348</td>\n",
       "      <td>1.172040</td>\n",
       "      <td>0.000000</td>\n",
       "      <td>2.000000</td>\n",
       "      <td>3.000000</td>\n",
       "      <td>4.000000</td>\n",
       "      <td>6.000000e+00</td>\n",
       "    </tr>\n",
       "    <tr>\n",
       "      <th>FireplacesTotal</th>\n",
       "      <td>2059.0</td>\n",
       "      <td>0.319087</td>\n",
       "      <td>0.502356</td>\n",
       "      <td>0.000000</td>\n",
       "      <td>0.000000</td>\n",
       "      <td>0.000000</td>\n",
       "      <td>1.000000</td>\n",
       "      <td>3.000000e+00</td>\n",
       "    </tr>\n",
       "    <tr>\n",
       "      <th>house_longitude</th>\n",
       "      <td>1608.0</td>\n",
       "      <td>-74.373837</td>\n",
       "      <td>0.025626</td>\n",
       "      <td>-74.425965</td>\n",
       "      <td>-74.395293</td>\n",
       "      <td>-74.375962</td>\n",
       "      <td>-74.352695</td>\n",
       "      <td>-7.431770e+01</td>\n",
       "    </tr>\n",
       "    <tr>\n",
       "      <th>TaxAnnualAmount</th>\n",
       "      <td>1584.0</td>\n",
       "      <td>10233.356061</td>\n",
       "      <td>34719.868914</td>\n",
       "      <td>0.000000</td>\n",
       "      <td>6281.000000</td>\n",
       "      <td>8095.500000</td>\n",
       "      <td>11113.000000</td>\n",
       "      <td>8.443500e+05</td>\n",
       "    </tr>\n",
       "    <tr>\n",
       "      <th>house_latitude</th>\n",
       "      <td>1608.0</td>\n",
       "      <td>40.542404</td>\n",
       "      <td>0.031332</td>\n",
       "      <td>40.493233</td>\n",
       "      <td>40.515169</td>\n",
       "      <td>40.533294</td>\n",
       "      <td>40.569367</td>\n",
       "      <td>4.060499e+01</td>\n",
       "    </tr>\n",
       "    <tr>\n",
       "      <th>ListPrice</th>\n",
       "      <td>2092.0</td>\n",
       "      <td>309632.963193</td>\n",
       "      <td>250077.650161</td>\n",
       "      <td>600.000000</td>\n",
       "      <td>42350.000000</td>\n",
       "      <td>326950.000000</td>\n",
       "      <td>469000.000000</td>\n",
       "      <td>2.500000e+06</td>\n",
       "    </tr>\n",
       "    <tr>\n",
       "      <th>CoveredSpaces</th>\n",
       "      <td>2075.0</td>\n",
       "      <td>0.860723</td>\n",
       "      <td>0.840383</td>\n",
       "      <td>0.000000</td>\n",
       "      <td>0.000000</td>\n",
       "      <td>1.000000</td>\n",
       "      <td>2.000000</td>\n",
       "      <td>4.000000e+00</td>\n",
       "    </tr>\n",
       "    <tr>\n",
       "      <th>StoriesTotal</th>\n",
       "      <td>2092.0</td>\n",
       "      <td>1.304493</td>\n",
       "      <td>1.025509</td>\n",
       "      <td>0.000000</td>\n",
       "      <td>0.000000</td>\n",
       "      <td>2.000000</td>\n",
       "      <td>2.000000</td>\n",
       "      <td>5.000000e+00</td>\n",
       "    </tr>\n",
       "    <tr>\n",
       "      <th>YearBuilt</th>\n",
       "      <td>2092.0</td>\n",
       "      <td>1876.777725</td>\n",
       "      <td>505.668233</td>\n",
       "      <td>0.000000</td>\n",
       "      <td>1954.000000</td>\n",
       "      <td>1969.000000</td>\n",
       "      <td>1985.000000</td>\n",
       "      <td>9.999000e+03</td>\n",
       "    </tr>\n",
       "    <tr>\n",
       "      <th>DaysOnMarket</th>\n",
       "      <td>2092.0</td>\n",
       "      <td>51.637667</td>\n",
       "      <td>47.376860</td>\n",
       "      <td>0.000000</td>\n",
       "      <td>18.000000</td>\n",
       "      <td>37.000000</td>\n",
       "      <td>70.000000</td>\n",
       "      <td>4.590000e+02</td>\n",
       "    </tr>\n",
       "    <tr>\n",
       "      <th>ClosePrice</th>\n",
       "      <td>2092.0</td>\n",
       "      <td>304310.063279</td>\n",
       "      <td>242909.054777</td>\n",
       "      <td>525.000000</td>\n",
       "      <td>40250.000000</td>\n",
       "      <td>324249.500000</td>\n",
       "      <td>460000.000000</td>\n",
       "      <td>1.670000e+06</td>\n",
       "    </tr>\n",
       "    <tr>\n",
       "      <th>LotSizeArea</th>\n",
       "      <td>1277.0</td>\n",
       "      <td>32.397750</td>\n",
       "      <td>782.026339</td>\n",
       "      <td>0.000900</td>\n",
       "      <td>0.114800</td>\n",
       "      <td>0.172200</td>\n",
       "      <td>0.235000</td>\n",
       "      <td>1.973800e+04</td>\n",
       "    </tr>\n",
       "    <tr>\n",
       "      <th>BathroomsTotalInteger</th>\n",
       "      <td>2092.0</td>\n",
       "      <td>2.230880</td>\n",
       "      <td>1.015303</td>\n",
       "      <td>0.000000</td>\n",
       "      <td>1.000000</td>\n",
       "      <td>2.000000</td>\n",
       "      <td>3.000000</td>\n",
       "      <td>9.000000e+00</td>\n",
       "    </tr>\n",
       "    <tr>\n",
       "      <th>RoomsTotal</th>\n",
       "      <td>2075.0</td>\n",
       "      <td>6.642892</td>\n",
       "      <td>2.205715</td>\n",
       "      <td>0.000000</td>\n",
       "      <td>5.000000</td>\n",
       "      <td>7.000000</td>\n",
       "      <td>8.000000</td>\n",
       "      <td>1.800000e+01</td>\n",
       "    </tr>\n",
       "    <tr>\n",
       "      <th>PostalCode</th>\n",
       "      <td>2092.0</td>\n",
       "      <td>8822.182600</td>\n",
       "      <td>7.800178</td>\n",
       "      <td>8816.000000</td>\n",
       "      <td>8817.000000</td>\n",
       "      <td>8820.000000</td>\n",
       "      <td>8820.000000</td>\n",
       "      <td>8.906000e+03</td>\n",
       "    </tr>\n",
       "    <tr>\n",
       "      <th>BuildingAreaTotal</th>\n",
       "      <td>2092.0</td>\n",
       "      <td>751.717973</td>\n",
       "      <td>1188.946609</td>\n",
       "      <td>0.000000</td>\n",
       "      <td>0.000000</td>\n",
       "      <td>0.000000</td>\n",
       "      <td>1446.250000</td>\n",
       "      <td>2.100000e+04</td>\n",
       "    </tr>\n",
       "  </tbody>\n",
       "</table>\n",
       "</div>"
      ],
      "text/plain": [
       "                        count           mean            std          min  \\\n",
       "Property_id            2092.0    1081.950765     640.128887     0.000000   \n",
       "BedroomsTotal          2092.0       2.916348       1.172040     0.000000   \n",
       "FireplacesTotal        2059.0       0.319087       0.502356     0.000000   \n",
       "house_longitude        1608.0     -74.373837       0.025626   -74.425965   \n",
       "TaxAnnualAmount        1584.0   10233.356061   34719.868914     0.000000   \n",
       "house_latitude         1608.0      40.542404       0.031332    40.493233   \n",
       "ListPrice              2092.0  309632.963193  250077.650161   600.000000   \n",
       "CoveredSpaces          2075.0       0.860723       0.840383     0.000000   \n",
       "StoriesTotal           2092.0       1.304493       1.025509     0.000000   \n",
       "YearBuilt              2092.0    1876.777725     505.668233     0.000000   \n",
       "DaysOnMarket           2092.0      51.637667      47.376860     0.000000   \n",
       "ClosePrice             2092.0  304310.063279  242909.054777   525.000000   \n",
       "LotSizeArea            1277.0      32.397750     782.026339     0.000900   \n",
       "BathroomsTotalInteger  2092.0       2.230880       1.015303     0.000000   \n",
       "RoomsTotal             2075.0       6.642892       2.205715     0.000000   \n",
       "PostalCode             2092.0    8822.182600       7.800178  8816.000000   \n",
       "BuildingAreaTotal      2092.0     751.717973    1188.946609     0.000000   \n",
       "\n",
       "                                25%            50%            75%  \\\n",
       "Property_id              525.750000    1058.500000    1661.250000   \n",
       "BedroomsTotal              2.000000       3.000000       4.000000   \n",
       "FireplacesTotal            0.000000       0.000000       1.000000   \n",
       "house_longitude          -74.395293     -74.375962     -74.352695   \n",
       "TaxAnnualAmount         6281.000000    8095.500000   11113.000000   \n",
       "house_latitude            40.515169      40.533294      40.569367   \n",
       "ListPrice              42350.000000  326950.000000  469000.000000   \n",
       "CoveredSpaces              0.000000       1.000000       2.000000   \n",
       "StoriesTotal               0.000000       2.000000       2.000000   \n",
       "YearBuilt               1954.000000    1969.000000    1985.000000   \n",
       "DaysOnMarket              18.000000      37.000000      70.000000   \n",
       "ClosePrice             40250.000000  324249.500000  460000.000000   \n",
       "LotSizeArea                0.114800       0.172200       0.235000   \n",
       "BathroomsTotalInteger      1.000000       2.000000       3.000000   \n",
       "RoomsTotal                 5.000000       7.000000       8.000000   \n",
       "PostalCode              8817.000000    8820.000000    8820.000000   \n",
       "BuildingAreaTotal          0.000000       0.000000    1446.250000   \n",
       "\n",
       "                                max  \n",
       "Property_id            2.186000e+03  \n",
       "BedroomsTotal          6.000000e+00  \n",
       "FireplacesTotal        3.000000e+00  \n",
       "house_longitude       -7.431770e+01  \n",
       "TaxAnnualAmount        8.443500e+05  \n",
       "house_latitude         4.060499e+01  \n",
       "ListPrice              2.500000e+06  \n",
       "CoveredSpaces          4.000000e+00  \n",
       "StoriesTotal           5.000000e+00  \n",
       "YearBuilt              9.999000e+03  \n",
       "DaysOnMarket           4.590000e+02  \n",
       "ClosePrice             1.670000e+06  \n",
       "LotSizeArea            1.973800e+04  \n",
       "BathroomsTotalInteger  9.000000e+00  \n",
       "RoomsTotal             1.800000e+01  \n",
       "PostalCode             8.906000e+03  \n",
       "BuildingAreaTotal      2.100000e+04  "
      ]
     },
     "execution_count": 2,
     "metadata": {},
     "output_type": "execute_result"
    }
   ],
   "source": [
    "fp.mls_data_describe()"
   ]
  },
  {
   "cell_type": "markdown",
   "id": "f8b87a6e",
   "metadata": {},
   "source": [
    "ClosePrice (Target Value):From above describe() method we conclude for ClosePrice that\n",
    "The std is big.\n",
    "min is greater than 0\n",
    "There is a big difference between the minimum value and the 25th percentile.\n",
    "It’s bigger than the 75th percentile and max.\n",
    "The difference between the 75th percentile and the max is greater than the 25th percentile and the max."
   ]
  },
  {
   "cell_type": "markdown",
   "id": "57c7b6d0",
   "metadata": {},
   "source": [
    "Question 2 Display information about dataset like total values in each column, null/not null, datatype, memory occupied."
   ]
  },
  {
   "cell_type": "code",
   "execution_count": 3,
   "id": "0bac6222",
   "metadata": {},
   "outputs": [
    {
     "name": "stdout",
     "output_type": "stream",
     "text": [
      "<class 'pandas.core.frame.DataFrame'>\n",
      "Int64Index: 2092 entries, 0 to 2186\n",
      "Data columns (total 42 columns):\n",
      " #   Column                  Non-Null Count  Dtype         \n",
      "---  ------                  --------------  -----         \n",
      " 0   Property_id             2092 non-null   int64         \n",
      " 1   BedroomsTotal           2092 non-null   int64         \n",
      " 2   Flooring                2002 non-null   object        \n",
      " 3   FireplacesTotal         2059 non-null   float64       \n",
      " 4   Cooling                 2092 non-null   object        \n",
      " 5   GarageYN                2075 non-null   object        \n",
      " 6   house_longitude         1608 non-null   float64       \n",
      " 7   RoomDiningRoomFeatures  1608 non-null   object        \n",
      " 8   ListingContractDate     2092 non-null   datetime64[ns]\n",
      " 9   Appliances              2061 non-null   object        \n",
      " 10  TaxAnnualAmount         1584 non-null   float64       \n",
      " 11  house_latitude          1608 non-null   float64       \n",
      " 12  PropertyType            2092 non-null   object        \n",
      " 13  ListPrice               2092 non-null   int64         \n",
      " 14  CoveredSpaces           2075 non-null   float64       \n",
      " 15  FireplaceYN             2059 non-null   object        \n",
      " 16  PropertySubType         2092 non-null   object        \n",
      " 17  InteriorFeatures        2054 non-null   object        \n",
      " 18  SubdivisionName         2055 non-null   object        \n",
      " 19  CloseDate               2092 non-null   datetime64[ns]\n",
      " 20  StreetSuffix            2092 non-null   object        \n",
      " 21  StoriesTotal            2092 non-null   float64       \n",
      " 22  YearBuilt               2092 non-null   int32         \n",
      " 23  PropertyAttachedYN      2045 non-null   object        \n",
      " 24  DaysOnMarket            2092 non-null   int64         \n",
      " 25  RoomKitchenFeatures     1983 non-null   object        \n",
      " 26  ClosePrice              2092 non-null   float64       \n",
      " 27  ParkingFeatures         1851 non-null   object        \n",
      " 28  LotSizeArea             1277 non-null   float64       \n",
      " 29  Sewer                   1502 non-null   object        \n",
      " 30  Heating                 2092 non-null   object        \n",
      " 31  StreetName              2092 non-null   object        \n",
      " 32  Utilities               1925 non-null   object        \n",
      " 33  BathroomsTotalInteger   2092 non-null   int64         \n",
      " 34  RoomsTotal              2075 non-null   float64       \n",
      " 35  TaxYear                 1584 non-null   object        \n",
      " 36  LotFeatures             1123 non-null   object        \n",
      " 37  PostalCode              2092 non-null   int64         \n",
      " 38  ArchitecturalStyle      1141 non-null   object        \n",
      " 39  UnparsedAddress         2092 non-null   object        \n",
      " 40  BuildingAreaTotal       2092 non-null   int64         \n",
      " 41  StandardStatus          2092 non-null   object        \n",
      "dtypes: datetime64[ns](2), float64(9), int32(1), int64(7), object(23)\n",
      "memory usage: 694.6+ KB\n"
     ]
    }
   ],
   "source": [
    "fp.mls_data_info()"
   ]
  },
  {
   "cell_type": "markdown",
   "id": "42b6ddc6",
   "metadata": {},
   "source": [
    "Question 3 Display the missing value percentage of dataset."
   ]
  },
  {
   "cell_type": "code",
   "execution_count": 4,
   "id": "d2bd5d48",
   "metadata": {},
   "outputs": [
    {
     "name": "stdout",
     "output_type": "stream",
     "text": [
      "Total number Of Missing Values =  6998\n"
     ]
    },
    {
     "data": {
      "text/html": [
       "<div>\n",
       "<style scoped>\n",
       "    .dataframe tbody tr th:only-of-type {\n",
       "        vertical-align: middle;\n",
       "    }\n",
       "\n",
       "    .dataframe tbody tr th {\n",
       "        vertical-align: top;\n",
       "    }\n",
       "\n",
       "    .dataframe thead th {\n",
       "        text-align: right;\n",
       "    }\n",
       "</style>\n",
       "<table border=\"1\" class=\"dataframe\">\n",
       "  <thead>\n",
       "    <tr style=\"text-align: right;\">\n",
       "      <th></th>\n",
       "      <th>Missing Ratio</th>\n",
       "      <th>Missing Values</th>\n",
       "    </tr>\n",
       "  </thead>\n",
       "  <tbody>\n",
       "    <tr>\n",
       "      <th>ArchitecturalStyle</th>\n",
       "      <td>45.084591</td>\n",
       "      <td>986</td>\n",
       "    </tr>\n",
       "    <tr>\n",
       "      <th>LotFeatures</th>\n",
       "      <td>44.627343</td>\n",
       "      <td>976</td>\n",
       "    </tr>\n",
       "    <tr>\n",
       "      <th>LotSizeArea</th>\n",
       "      <td>38.637403</td>\n",
       "      <td>845</td>\n",
       "    </tr>\n",
       "    <tr>\n",
       "      <th>Sewer</th>\n",
       "      <td>26.977595</td>\n",
       "      <td>590</td>\n",
       "    </tr>\n",
       "    <tr>\n",
       "      <th>TaxAnnualAmount</th>\n",
       "      <td>23.868313</td>\n",
       "      <td>522</td>\n",
       "    </tr>\n",
       "    <tr>\n",
       "      <th>TaxYear</th>\n",
       "      <td>23.868313</td>\n",
       "      <td>522</td>\n",
       "    </tr>\n",
       "    <tr>\n",
       "      <th>RoomDiningRoomFeatures</th>\n",
       "      <td>23.548240</td>\n",
       "      <td>515</td>\n",
       "    </tr>\n",
       "    <tr>\n",
       "      <th>house_longitude</th>\n",
       "      <td>22.862369</td>\n",
       "      <td>500</td>\n",
       "    </tr>\n",
       "    <tr>\n",
       "      <th>house_latitude</th>\n",
       "      <td>22.862369</td>\n",
       "      <td>500</td>\n",
       "    </tr>\n",
       "    <tr>\n",
       "      <th>ParkingFeatures</th>\n",
       "      <td>11.156836</td>\n",
       "      <td>244</td>\n",
       "    </tr>\n",
       "    <tr>\n",
       "      <th>Utilities</th>\n",
       "      <td>7.636031</td>\n",
       "      <td>167</td>\n",
       "    </tr>\n",
       "    <tr>\n",
       "      <th>RoomKitchenFeatures</th>\n",
       "      <td>5.807042</td>\n",
       "      <td>127</td>\n",
       "    </tr>\n",
       "    <tr>\n",
       "      <th>Flooring</th>\n",
       "      <td>4.252401</td>\n",
       "      <td>93</td>\n",
       "    </tr>\n",
       "    <tr>\n",
       "      <th>PropertyAttachedYN</th>\n",
       "      <td>2.972108</td>\n",
       "      <td>65</td>\n",
       "    </tr>\n",
       "    <tr>\n",
       "      <th>SubdivisionName</th>\n",
       "      <td>2.606310</td>\n",
       "      <td>57</td>\n",
       "    </tr>\n",
       "    <tr>\n",
       "      <th>FireplaceYN</th>\n",
       "      <td>2.331962</td>\n",
       "      <td>51</td>\n",
       "    </tr>\n",
       "    <tr>\n",
       "      <th>FireplacesTotal</th>\n",
       "      <td>2.331962</td>\n",
       "      <td>51</td>\n",
       "    </tr>\n",
       "    <tr>\n",
       "      <th>InteriorFeatures</th>\n",
       "      <td>2.149063</td>\n",
       "      <td>47</td>\n",
       "    </tr>\n",
       "    <tr>\n",
       "      <th>Appliances</th>\n",
       "      <td>2.057613</td>\n",
       "      <td>45</td>\n",
       "    </tr>\n",
       "    <tr>\n",
       "      <th>CoveredSpaces</th>\n",
       "      <td>1.417467</td>\n",
       "      <td>31</td>\n",
       "    </tr>\n",
       "    <tr>\n",
       "      <th>RoomsTotal</th>\n",
       "      <td>1.417467</td>\n",
       "      <td>31</td>\n",
       "    </tr>\n",
       "    <tr>\n",
       "      <th>GarageYN</th>\n",
       "      <td>1.417467</td>\n",
       "      <td>31</td>\n",
       "    </tr>\n",
       "    <tr>\n",
       "      <th>StreetSuffix</th>\n",
       "      <td>0.091449</td>\n",
       "      <td>2</td>\n",
       "    </tr>\n",
       "  </tbody>\n",
       "</table>\n",
       "</div>"
      ],
      "text/plain": [
       "                        Missing Ratio  Missing Values\n",
       "ArchitecturalStyle          45.084591             986\n",
       "LotFeatures                 44.627343             976\n",
       "LotSizeArea                 38.637403             845\n",
       "Sewer                       26.977595             590\n",
       "TaxAnnualAmount             23.868313             522\n",
       "TaxYear                     23.868313             522\n",
       "RoomDiningRoomFeatures      23.548240             515\n",
       "house_longitude             22.862369             500\n",
       "house_latitude              22.862369             500\n",
       "ParkingFeatures             11.156836             244\n",
       "Utilities                    7.636031             167\n",
       "RoomKitchenFeatures          5.807042             127\n",
       "Flooring                     4.252401              93\n",
       "PropertyAttachedYN           2.972108              65\n",
       "SubdivisionName              2.606310              57\n",
       "FireplaceYN                  2.331962              51\n",
       "FireplacesTotal              2.331962              51\n",
       "InteriorFeatures             2.149063              47\n",
       "Appliances                   2.057613              45\n",
       "CoveredSpaces                1.417467              31\n",
       "RoomsTotal                   1.417467              31\n",
       "GarageYN                     1.417467              31\n",
       "StreetSuffix                 0.091449               2"
      ]
     },
     "execution_count": 4,
     "metadata": {},
     "output_type": "execute_result"
    }
   ],
   "source": [
    "fp.missing_count()"
   ]
  },
  {
   "cell_type": "markdown",
   "id": "c2d3586c",
   "metadata": {},
   "source": [
    "Judged from the above table, we can conclude that the majority of variables are having less % of null values."
   ]
  },
  {
   "cell_type": "markdown",
   "id": "d1e7047c",
   "metadata": {},
   "source": [
    "# 1.1 Factors Affected the Closed Price of Property\n",
    "\n",
    "Question 1 Display heat map to get quick overview of variables correlation relationships."
   ]
  },
  {
   "cell_type": "code",
   "execution_count": 5,
   "id": "10871a50",
   "metadata": {},
   "outputs": [
    {
     "data": {
      "text/plain": [
       "<AxesSubplot:>"
      ]
     },
     "execution_count": 5,
     "metadata": {},
     "output_type": "execute_result"
    },
    {
     "data": {
      "image/png": "[encoded data removed]",
      "text/plain": [
       "<Figure size 1080x864 with 2 Axes>"
      ]
     },
     "metadata": {
      "needs_background": "light"
     },
     "output_type": "display_data"
    }
   ],
   "source": [
    "fp.corrextraction()"
   ]
  },
  {
   "cell_type": "markdown",
   "id": "b9c90cd9",
   "metadata": {},
   "source": [
    "Question 2 Display correlation table with correlation percentage of variables with target variable."
   ]
  },
  {
   "cell_type": "code",
   "execution_count": 6,
   "id": "729f007f",
   "metadata": {},
   "outputs": [
    {
     "data": {
      "text/html": [
       "<div>\n",
       "<style scoped>\n",
       "    .dataframe tbody tr th:only-of-type {\n",
       "        vertical-align: middle;\n",
       "    }\n",
       "\n",
       "    .dataframe tbody tr th {\n",
       "        vertical-align: top;\n",
       "    }\n",
       "\n",
       "    .dataframe thead th {\n",
       "        text-align: right;\n",
       "    }\n",
       "</style>\n",
       "<table border=\"1\" class=\"dataframe\">\n",
       "  <thead>\n",
       "    <tr style=\"text-align: right;\">\n",
       "      <th></th>\n",
       "      <th>index</th>\n",
       "      <th>ClosePrice</th>\n",
       "      <th>Correlation_Percentage(%)</th>\n",
       "    </tr>\n",
       "  </thead>\n",
       "  <tbody>\n",
       "    <tr>\n",
       "      <th>0</th>\n",
       "      <td>ClosePrice</td>\n",
       "      <td>1.000000</td>\n",
       "      <td>100</td>\n",
       "    </tr>\n",
       "    <tr>\n",
       "      <th>1</th>\n",
       "      <td>ListPrice</td>\n",
       "      <td>0.829757</td>\n",
       "      <td>82</td>\n",
       "    </tr>\n",
       "    <tr>\n",
       "      <th>2</th>\n",
       "      <td>StoriesTotal</td>\n",
       "      <td>0.432435</td>\n",
       "      <td>43</td>\n",
       "    </tr>\n",
       "    <tr>\n",
       "      <th>3</th>\n",
       "      <td>RoomsTotal</td>\n",
       "      <td>0.416601</td>\n",
       "      <td>41</td>\n",
       "    </tr>\n",
       "    <tr>\n",
       "      <th>4</th>\n",
       "      <td>BedroomsTotal</td>\n",
       "      <td>0.396535</td>\n",
       "      <td>39</td>\n",
       "    </tr>\n",
       "    <tr>\n",
       "      <th>5</th>\n",
       "      <td>FireplacesTotal</td>\n",
       "      <td>0.355655</td>\n",
       "      <td>35</td>\n",
       "    </tr>\n",
       "    <tr>\n",
       "      <th>6</th>\n",
       "      <td>FireplaceYN</td>\n",
       "      <td>0.349494</td>\n",
       "      <td>34</td>\n",
       "    </tr>\n",
       "    <tr>\n",
       "      <th>7</th>\n",
       "      <td>CoveredSpaces</td>\n",
       "      <td>0.347606</td>\n",
       "      <td>34</td>\n",
       "    </tr>\n",
       "    <tr>\n",
       "      <th>8</th>\n",
       "      <td>BathroomsTotalInteger</td>\n",
       "      <td>0.332366</td>\n",
       "      <td>33</td>\n",
       "    </tr>\n",
       "    <tr>\n",
       "      <th>9</th>\n",
       "      <td>GarageYN</td>\n",
       "      <td>0.317468</td>\n",
       "      <td>31</td>\n",
       "    </tr>\n",
       "    <tr>\n",
       "      <th>10</th>\n",
       "      <td>BuildingAreaTotal</td>\n",
       "      <td>0.241549</td>\n",
       "      <td>24</td>\n",
       "    </tr>\n",
       "    <tr>\n",
       "      <th>11</th>\n",
       "      <td>house_longitude</td>\n",
       "      <td>0.197197</td>\n",
       "      <td>19</td>\n",
       "    </tr>\n",
       "    <tr>\n",
       "      <th>12</th>\n",
       "      <td>house_latitude</td>\n",
       "      <td>0.183496</td>\n",
       "      <td>18</td>\n",
       "    </tr>\n",
       "    <tr>\n",
       "      <th>13</th>\n",
       "      <td>TaxAnnualAmount</td>\n",
       "      <td>0.162686</td>\n",
       "      <td>16</td>\n",
       "    </tr>\n",
       "    <tr>\n",
       "      <th>14</th>\n",
       "      <td>Property_id</td>\n",
       "      <td>0.158007</td>\n",
       "      <td>15</td>\n",
       "    </tr>\n",
       "    <tr>\n",
       "      <th>15</th>\n",
       "      <td>DaysOnMarket</td>\n",
       "      <td>0.071707</td>\n",
       "      <td>7</td>\n",
       "    </tr>\n",
       "    <tr>\n",
       "      <th>16</th>\n",
       "      <td>YearBuilt</td>\n",
       "      <td>-0.011324</td>\n",
       "      <td>-1</td>\n",
       "    </tr>\n",
       "    <tr>\n",
       "      <th>17</th>\n",
       "      <td>LotSizeArea</td>\n",
       "      <td>-0.046771</td>\n",
       "      <td>-4</td>\n",
       "    </tr>\n",
       "    <tr>\n",
       "      <th>18</th>\n",
       "      <td>PostalCode</td>\n",
       "      <td>-0.077484</td>\n",
       "      <td>-7</td>\n",
       "    </tr>\n",
       "    <tr>\n",
       "      <th>19</th>\n",
       "      <td>PropertyAttachedYN</td>\n",
       "      <td>-0.362573</td>\n",
       "      <td>-36</td>\n",
       "    </tr>\n",
       "  </tbody>\n",
       "</table>\n",
       "</div>"
      ],
      "text/plain": [
       "                    index  ClosePrice  Correlation_Percentage(%)\n",
       "0              ClosePrice    1.000000                        100\n",
       "1               ListPrice    0.829757                         82\n",
       "2            StoriesTotal    0.432435                         43\n",
       "3              RoomsTotal    0.416601                         41\n",
       "4           BedroomsTotal    0.396535                         39\n",
       "5         FireplacesTotal    0.355655                         35\n",
       "6             FireplaceYN    0.349494                         34\n",
       "7           CoveredSpaces    0.347606                         34\n",
       "8   BathroomsTotalInteger    0.332366                         33\n",
       "9                GarageYN    0.317468                         31\n",
       "10      BuildingAreaTotal    0.241549                         24\n",
       "11        house_longitude    0.197197                         19\n",
       "12         house_latitude    0.183496                         18\n",
       "13        TaxAnnualAmount    0.162686                         16\n",
       "14            Property_id    0.158007                         15\n",
       "15           DaysOnMarket    0.071707                          7\n",
       "16              YearBuilt   -0.011324                         -1\n",
       "17            LotSizeArea   -0.046771                         -4\n",
       "18             PostalCode   -0.077484                         -7\n",
       "19     PropertyAttachedYN   -0.362573                        -36"
      ]
     },
     "execution_count": 6,
     "metadata": {},
     "output_type": "execute_result"
    }
   ],
   "source": [
    "fp.corrpercentage()"
   ]
  },
  {
   "cell_type": "markdown",
   "id": "96d69285",
   "metadata": {},
   "source": [
    "Question 3 Display visualization of factors that are affected the property sale."
   ]
  },
  {
   "cell_type": "code",
   "execution_count": 7,
   "id": "cdfb2de1",
   "metadata": {},
   "outputs": [],
   "source": [
    "# fp.factoraffectedpropertysale()"
   ]
  },
  {
   "cell_type": "markdown",
   "id": "70c19528",
   "metadata": {},
   "source": [
    "{% include factoraffectedpropertysale.html %}"
   ]
  },
  {
   "cell_type": "markdown",
   "id": "f56c4859",
   "metadata": {},
   "source": [
    "ListPrice, StoriesTotal,RoomsTotal,BedroomsTotal etc. are highly correlated with our response variable, ClosePrice.\n",
    "We can then conclude that area-related variables (including ground BuildingAreaTotal, FireplacesTotal, number of rooms) \n",
    "are the major continuous factors associated with the ClosePrice of a house."
   ]
  },
  {
   "cell_type": "markdown",
   "id": "620a32ca",
   "metadata": {},
   "source": [
    "# 1.2 Market Insights To gather \n",
    "\n",
    "1.2.1 Visualization of Supply vs Demand (number of property in Active vs Closed State)\n",
    "\n",
    "Question 1 Display visualization of Active Property By Year and Region Code."
   ]
  },
  {
   "cell_type": "code",
   "execution_count": 8,
   "id": "cee01c0a",
   "metadata": {},
   "outputs": [],
   "source": [
    "# sd.activehouseareacode()"
   ]
  },
  {
   "cell_type": "markdown",
   "id": "e03d56e6",
   "metadata": {},
   "source": [
    "{% include activehouseareacode.html %}"
   ]
  },
  {
   "cell_type": "markdown",
   "id": "a916b379",
   "metadata": {},
   "source": [
    "Following are the observation that we can conclude from above visualization:\n",
    "1) More Active Properties are from Region Code 8817,8820 and 8837.\n",
    "2) The highest Active property frequency of Region Code 8820 in 2018 and goes down in 2019 and 2020.\n",
    "3) The highest Active property frequency of Region Code 8817 in 2019 and goes down in 2020."
   ]
  },
  {
   "cell_type": "markdown",
   "id": "23bdb5dd",
   "metadata": {},
   "source": [
    "Question 2 Display the visualization of Closed Property By Year and Region Code."
   ]
  },
  {
   "cell_type": "code",
   "execution_count": 9,
   "id": "3985f2ec",
   "metadata": {},
   "outputs": [],
   "source": [
    "# sd.closedhouseareacode()"
   ]
  },
  {
   "cell_type": "markdown",
   "id": "f6a74b2b",
   "metadata": {},
   "source": [
    "{% include closedhouseareacode.html %}"
   ]
  },
  {
   "cell_type": "markdown",
   "id": "fd306860",
   "metadata": {},
   "source": [
    "Following are the observation that we can conclude from above visualization:\n",
    "1) More Properties are sold out from Region Code 8817,8820 and 8837.\n",
    "2) The highest Sold property frequency of Region Code 8817 in 2019 and goes down in 2020.\n",
    "3) 250 Property are sold from Region Code 8817 in 2018 and 2019."
   ]
  },
  {
   "cell_type": "markdown",
   "id": "894c4289",
   "metadata": {},
   "source": [
    "Question 3 Display the visualization of Frequency of Active vs Sold Property Distribution by Week."
   ]
  },
  {
   "cell_type": "code",
   "execution_count": 10,
   "id": "245f39d7",
   "metadata": {},
   "outputs": [],
   "source": [
    "# sd.ferquencyactivevssoldoverweek()"
   ]
  },
  {
   "cell_type": "markdown",
   "id": "eaa70bd9",
   "metadata": {},
   "source": [
    "{% include ferquencyactivevssoldoverweek.html %}"
   ]
  },
  {
   "cell_type": "markdown",
   "id": "863a0626",
   "metadata": {},
   "source": [
    "Following are the observation that we can conclude from above visualization:\n",
    "1) More Properties are Active for selling in weekgroup 10-20,20-30 and 30-40.\n",
    "2) Less Properties are listed for selling in the end of the year.\n",
    "3) From 2018 and 2019 year, We can conclude more Properties are Sold out in weekgroup 20-30,30-40 and 40-50.\n"
   ]
  },
  {
   "cell_type": "markdown",
   "id": "4a89584c",
   "metadata": {},
   "source": [
    "1.2.2 Visualization of Median home sale price and Days on Market "
   ]
  },
  {
   "cell_type": "markdown",
   "id": "59c239ae",
   "metadata": {},
   "source": [
    "# Price Binning"
   ]
  },
  {
   "cell_type": "markdown",
   "id": "307698af",
   "metadata": {},
   "source": [
    "Question 1 Display visualization of Median Selling Price and Price Binning."
   ]
  },
  {
   "cell_type": "code",
   "execution_count": 11,
   "id": "b0b6483b",
   "metadata": {},
   "outputs": [],
   "source": [
    "# pb.sellingprice()"
   ]
  },
  {
   "cell_type": "markdown",
   "id": "84b4d665",
   "metadata": {},
   "source": [
    "{% include pbsellingprice.html %}"
   ]
  },
  {
   "cell_type": "markdown",
   "id": "f899f16b",
   "metadata": {},
   "source": [
    "From the above graph, we can conclude the Median Sold Price increases with the increasing Price Binning."
   ]
  },
  {
   "cell_type": "markdown",
   "id": "2dc1eeba",
   "metadata": {},
   "source": [
    "Question 2 Display visualization of Frequency of Property and Price Binning."
   ]
  },
  {
   "cell_type": "code",
   "execution_count": 12,
   "id": "1a07727f",
   "metadata": {},
   "outputs": [],
   "source": [
    "# pb.propertydistribution()"
   ]
  },
  {
   "cell_type": "markdown",
   "id": "c0dcb420",
   "metadata": {},
   "source": [
    "{% include pbpropertydistribution.html %}"
   ]
  },
  {
   "cell_type": "markdown",
   "id": "575a30c5",
   "metadata": {},
   "source": [
    "Following are the observation that we can conclude from above visualization:\n",
    "1) Highest Properties are Sold in Price Range Below and Equal to $167000.\n",
    "2) Highest the Price, Lesser Properties are sold out.\n"
   ]
  },
  {
   "cell_type": "markdown",
   "id": "e9127549",
   "metadata": {},
   "source": [
    "Question 3 Display visualization of Property Market Trends and Price Binning."
   ]
  },
  {
   "cell_type": "code",
   "execution_count": 13,
   "id": "be0c3ca7",
   "metadata": {},
   "outputs": [],
   "source": [
    "# pb.daysonmarket()"
   ]
  },
  {
   "cell_type": "markdown",
   "id": "0bb6c08a",
   "metadata": {},
   "source": [
    "{% include pbdaysonmarket.html %}"
   ]
  },
  {
   "cell_type": "markdown",
   "id": "3b6a4386",
   "metadata": {},
   "source": [
    "Following are the observation that we can conclude from above visualization:\n",
    "1) Property with Less Prices are Sold fastly.\n",
    "2) Propert with High Prices saty longer in Market."
   ]
  },
  {
   "cell_type": "markdown",
   "id": "81169b16",
   "metadata": {},
   "source": [
    "Question 4 Display visualization of Property Sale over Months."
   ]
  },
  {
   "cell_type": "code",
   "execution_count": 14,
   "id": "f082d1d0",
   "metadata": {},
   "outputs": [],
   "source": [
    "# pb.sellinghousebymonth()"
   ]
  },
  {
   "cell_type": "markdown",
   "id": "c2a6685d",
   "metadata": {},
   "source": [
    "{% include pbsellinghousebymonth.html %}"
   ]
  },
  {
   "cell_type": "markdown",
   "id": "aa76beed",
   "metadata": {},
   "source": [
    "Following are the observation that we can conclude from above visualization:\n",
    "1) Highest Revenue of Properties occured in Jun,2019.\n",
    "2) More Revenue are collected in Jun,Aug and Oct months over all years.\n",
    "3) The Revenue went down in Apr Month.\n",
    "4) Same Revenue had collected in Jul'2018 and Jul'2021 \n",
    "5) January: 2020 was the year with the highest \"average\" sales for this month. However, January tends to be low in sales activity.\n",
    "6) April: 2019 and 2020 were the year with the highest sales for this month with 11.32M in average sales.\n"
   ]
  },
  {
   "cell_type": "markdown",
   "id": "6bd3f7de",
   "metadata": {},
   "source": [
    "Question 5 Display visualization of Percentage Change in Property Sold over Months."
   ]
  },
  {
   "cell_type": "code",
   "execution_count": 15,
   "id": "afae858d",
   "metadata": {},
   "outputs": [],
   "source": [
    "# pb.percentagechangepriceovermonths()"
   ]
  },
  {
   "cell_type": "markdown",
   "id": "faaad3e5",
   "metadata": {},
   "source": [
    "{% include pbpercentagechangepriceovermonths.html %}"
   ]
  },
  {
   "cell_type": "markdown",
   "id": "7f937c13",
   "metadata": {},
   "source": [
    "Following are the observation that we can conclude from above visualization:\n",
    "Percent Change 2018 - 2019:\n",
    "March: There was a 213% sales increase in Mar 2019 compared to Mar 2018.\n",
    "April: There was a -1% sales decrease in Apr 2019 compared to Apr 2018.\n",
    "May: There was a 116% sales increase in May 2019 compared to May 2018.\n",
    "June: There was a 28% sales increase in Jun 2019 compared to Jun 2018.\n",
    "July: There was a 37% sales increase in Jul 2019 compared to Jul 2018.\n",
    "August: There was a 10% sales increase in Aug 2019 compared to Aug 2018.\n",
    "September: There was a 15% sales increase in Sep 2019 compared to Sep 2018.\n",
    "October: There was a 35% sales increase in Oct 2019 compared to Oct 2018.\n",
    "November: There was a -13% sales decline in Nov 2019 compared to Nov 2018.\n",
    "December: There was a 11% sales increase in Dec 2019 compared to Dec 2018.\n",
    "\n",
    "Percent Change 2019 - 2020:\n",
    "January: There was a 19% sales increase in Jan 2020 compared to Jan 2019.\n",
    "February: There was a 49% sales increase in Feb 2020 compared to Feb 2019.\n",
    "March: There was a -30% sales decrease in Mar 2020 compared to Mar 2019.\n",
    "April: There was a 1% sales increase in Apr 2020 compared to Apr 2019.\n",
    "May: There was a -58% sales decrease in May 2020 compared to May 2019.\n",
    "June: There was a -56% sales decrease in Jun 2020 compared to Jun 2019.\n",
    "July: There was a -17% sales decrease in Jul 2020 compared to Jul 2019.\n",
    "August: There was a -6% sales decrease in Aug 2020 compared to Aug 2019.\n",
    "September: There was a 44% sales increase in Sep 2020 compared to Sep 2019.\n",
    "October: There was a -3% sales decrease in Oct 2020 compared to Oct 2019.\n",
    "November: There was a -55% sales decline in Nov 2020 compared to Nov 2019.\n",
    "December: There was a -1% sales decrease in Dec 2020 compared to Dec 2019.\n",
    "\n",
    "Percent Change 2020 - 2021:\n",
    "January: There was a -21% sales decrease in Jan 2021 compared to Jan 2020.\n",
    "February: There was a 25% sales increase in Feb 2021 compared to Feb 2020.\n",
    "March: There was a 19% sales increase in Mar 2021 compared to Mar 2020.\n",
    "April: There was a -24% sales decrease in Apr 2021 compared to Apr 2020.\n",
    "May: There was a 82% sales increase in May 2021 compared to May 2020.\n",
    "June: There was a 73% sales increase in Jun 2021 compared to Jun 2020.\n",
    "July: There was a -12% sales decrease in Jul 2021 compared to Jul 2020.\n",
    "August: There was a -76% sales decrease in Aug 2021 compared to Aug 2020.\n"
   ]
  },
  {
   "cell_type": "markdown",
   "id": "45fd5107",
   "metadata": {},
   "source": [
    "Question 6 Display visualization of Variation of Property Sold Price Over the Months."
   ]
  },
  {
   "cell_type": "code",
   "execution_count": 16,
   "id": "bbf49049",
   "metadata": {},
   "outputs": [],
   "source": [
    "# pb.variationofsellingpriceovermonths()"
   ]
  },
  {
   "cell_type": "markdown",
   "id": "6c282557",
   "metadata": {},
   "source": [
    "{% include pbvariationofsellingpriceovermonths.html %}"
   ]
  },
  {
   "cell_type": "markdown",
   "id": "4a8b346b",
   "metadata": {},
   "source": [
    "Following are the observation that we can conclude from above visualization:\n",
    "1) Revenue Went down in Feb, Jul and Nov month with respect to their previous month.\n",
    "2) Highest percentage increase in Revenue from March to July.\n"
   ]
  },
  {
   "cell_type": "markdown",
   "id": "3beea865",
   "metadata": {},
   "source": [
    "Question 7 Display visualization of Variation of Property Sold Price  and Property Market Trend Quaterly."
   ]
  },
  {
   "cell_type": "code",
   "execution_count": 17,
   "id": "3c7640ff",
   "metadata": {},
   "outputs": [],
   "source": [
    "# pb.variationsellingquaterly()"
   ]
  },
  {
   "cell_type": "markdown",
   "id": "bd5faf32",
   "metadata": {},
   "source": [
    "{% include pbvariationsellingquaterly1.html %}"
   ]
  },
  {
   "cell_type": "markdown",
   "id": "8aacb965",
   "metadata": {},
   "source": [
    "{% include pbvariationsellingquaterly2.html %}"
   ]
  },
  {
   "cell_type": "markdown",
   "id": "c336c051",
   "metadata": {},
   "source": [
    "Following are the observation that we can conclude from above visualization:\n",
    "\n",
    "Median Sale Price:\n",
    "1)2018: There was a 110% sales increase in Quater-II compared to Quater-I.\n",
    "2)2018: There was a -45% sales decrease in Quater-III compared to Quater-I.\n",
    "3)2019: There was a -53% sales decrease in Quater-II compared to Quater-I.\n",
    "4)2019: There was a 59% sales increase in Quater-III compared to Quater-I.\n",
    "5)2020: There was a 13% sales increase in Quater-II compared to Quater-I.\n",
    "6)2020: There was a -38% sales decrease in Quater-III compared to Quater-I\n",
    "7)2021: There was a 12% sales increase in Quater-II compared to Quater-I.\n",
    "\n",
    "Property Days on Markets Trends:\n",
    "1)2018: There was a 24% sales increase in Quater-II compared to Quater-I.\n",
    "2)2018: There was a 67% sales increase in Quater-III compared to Quater-I.\n",
    "3)2019: There was a 4% sales increase in Quater-II compared to Quater-I.\n",
    "4)2019: There was a -15% sales decrease in Quater-III compared to Quater-I.\n",
    "5)2020: There was a 13% sales increase in Quater-II compared to Quater-I.\n",
    "6)2020: There was a -4% sales decrease in Quater-III compared to Quater-I\n",
    "7)2021: There was a -56% sales decrease in Quater-II compared to Quater-I.\n"
   ]
  },
  {
   "cell_type": "markdown",
   "id": "2b666389",
   "metadata": {},
   "source": [
    "# Housing Type Binning"
   ]
  },
  {
   "cell_type": "markdown",
   "id": "2c7c4121",
   "metadata": {},
   "source": [
    "Question 1 Display visualization of Variation of Property Selling Price By Years and Property Type."
   ]
  },
  {
   "cell_type": "code",
   "execution_count": 18,
   "id": "4ea8fece",
   "metadata": {},
   "outputs": [],
   "source": [
    "# hb.sellingpriceyearoverpropertytype()"
   ]
  },
  {
   "cell_type": "markdown",
   "id": "42d828ab",
   "metadata": {},
   "source": [
    "{% include sellingpriceyearoverpropertytype.html %}"
   ]
  },
  {
   "cell_type": "markdown",
   "id": "769290d1",
   "metadata": {},
   "source": [
    "Following are the observation that we can conclude from above visualization:\n",
    "1) Commerical Property Price drastically increased in years 2020 and 2021.\n",
    "2) Residential Property Price remained same in 2018 and 2019. It was increased by $20k in 2020 and $60k in 2021.\n",
    "3) Residential Income Price was decreased in 2019 by $10K as compared to 2018. It was remained same in 2020 and 2021. "
   ]
  },
  {
   "cell_type": "markdown",
   "id": "735ac260",
   "metadata": {},
   "source": [
    "Question 2 Display visualization of Variation of Property Selling Price and Property Market Trends over Quater-I ."
   ]
  },
  {
   "cell_type": "code",
   "execution_count": 19,
   "id": "f40c9415",
   "metadata": {},
   "outputs": [],
   "source": [
    "# hb.firstquater()"
   ]
  },
  {
   "cell_type": "markdown",
   "id": "4a8f9350",
   "metadata": {},
   "source": [
    "{% include firstquater1.html %}"
   ]
  },
  {
   "cell_type": "markdown",
   "id": "37dcad27",
   "metadata": {},
   "source": [
    "{% include firstquater2.html %}"
   ]
  },
  {
   "cell_type": "markdown",
   "id": "1179dcae",
   "metadata": {},
   "source": [
    "Following are the observation that we can conclude from above visualization:\n",
    "Median Sale Price Quater-I:\n",
    "1) Median Sale Price of Residential Property were $330K, $330K , $350K and $400K in years 2018,2019,2020 and 2021.\n",
    "2) Median Sale Price of Residential Income Property were $460K and $360K in years 2019 and 2020.\n",
    "3) Median Sale Price of Residential Lease Property were $1700 , $1900 , $1900 and $1900 in years 2018,2019,2020 and 2021 .\n",
    "4) Median Sale Price of Commerical Sale Property were $600K and $1.7M in years 2019 and 2021.\n",
    "\n",
    "Property Days on Markets Trends Quater-I:\n",
    "1) Market Trends of Residential Property were 29, 58, 37 and 31 days in years 2018,2019,2020 and 2021.\n",
    "2) Market Trends of Residential Income Property were 20 and 152 days in years 2019 and 2020.\n",
    "3) Market Trends of Residential Lease Property were 21, 42, 32 and 50 days in years 2018,2019,2020 and 2021.\n",
    "4) Market Trends of Commerical Sale Property were 140 and 240 days in years 2019 and 2021."
   ]
  },
  {
   "cell_type": "markdown",
   "id": "c8db9064",
   "metadata": {},
   "source": [
    "Question 3 Display visualization of Variation of Property Selling Price and Property Market Trends over Quater-II ."
   ]
  },
  {
   "cell_type": "code",
   "execution_count": 20,
   "id": "f4e0d555",
   "metadata": {},
   "outputs": [],
   "source": [
    "# hb.secondquater()"
   ]
  },
  {
   "cell_type": "markdown",
   "id": "1c678f88",
   "metadata": {},
   "source": [
    "{% include secondquater1.html %}"
   ]
  },
  {
   "cell_type": "markdown",
   "id": "b111bbf5",
   "metadata": {},
   "source": [
    "{% include secondquater2.html %}"
   ]
  },
  {
   "cell_type": "markdown",
   "id": "1d8d5a2c",
   "metadata": {},
   "source": [
    "Following are the observation that we can conclude from above visualization:\n",
    "Median Sale Price Quater-II:\n",
    "1) Median Sale Price of Residential Property were $370K, $400K , $390K and $490K in years 2018,2019,2020 and 2021.\n",
    "2) Median Sale Price of Residential Income Property were $340K , $370K ,$410K and $410K in years 2018,2019,2020 and 2021.\n",
    "3) Median Sale Price of Residential Lease Property were $2000 , $1900 , $2300 and $2300 in years 2018,2019,2020 and 2021 .\n",
    "4) Median Sale Price of Commerical Sale Property were $1300 , $650K and $700K in years 2019,2020 and 2021.\n",
    "\n",
    "Property Days on Markets Trends Quater-II:\n",
    "1) Market Trends of Residential Property were 31, 37, 44 and 19 days in years 2018,2019,2020 and 2021.\n",
    "2) Market Trends of Residential Income Property were 40, 68, 5 and 13 days in years 2018,2019,2020 and 2021.\n",
    "3) Market Trends of Residential Lease Property were 28, 36, 40 and 25 days in years 2018,2019,2020 and 2021.\n",
    "4) Market Trends of Commerical Sale Property were 110, 66 and 120 days in years 2018,2019,2020 and 2021."
   ]
  },
  {
   "cell_type": "markdown",
   "id": "cc0acc33",
   "metadata": {},
   "source": [
    "Question 4 Display visualization of Variation of Property Selling Price and Property Market Trends over Quater-III ."
   ]
  },
  {
   "cell_type": "code",
   "execution_count": 21,
   "id": "eff6478e",
   "metadata": {},
   "outputs": [],
   "source": [
    "# hb.thirdquater()"
   ]
  },
  {
   "cell_type": "markdown",
   "id": "907c4214",
   "metadata": {},
   "source": [
    "{% include thirdquater1.html %}"
   ]
  },
  {
   "cell_type": "markdown",
   "id": "6a5bcada",
   "metadata": {},
   "source": [
    "{% include thirdquater2.html %}"
   ]
  },
  {
   "cell_type": "markdown",
   "id": "c4d723b6",
   "metadata": {},
   "source": [
    "Following are the observation that we can conclude from above visualization:\n",
    "Median Sale Price Quater-III:\n",
    "1) Median Sale Price of Residential Property were $370K, $370K and $440K in years 2018,2019 and 2020.\n",
    "2) Median Sale Price of Residential Income Property were $410K in 2018 .\n",
    "3) Median Sale Price of Residential Lease Property were same $2000 in years 2018,2019 and 2020.\n",
    "4) Median Sale Price of Commerical Sale Property were $1.1K , $290K and $240K in years 2018,2019 and 2020.\n",
    "\n",
    "Property Days on Markets Trends Quater-III:\n",
    "1) Market Trends of Residential Property were 46, 44 and 43 days in years 2018,2019 and 2020.\n",
    "2) Market Trends of Residential Income Property were 58 days in 2018 .\n",
    "3) Market Trends of Residential Lease Property were 32,40 and 27 days in years 2018,2019 and 2020.\n",
    "4) Market Trends of Commerical Sale Property were 63, 47 and 40 days in years 2018,2019 and 2020."
   ]
  },
  {
   "cell_type": "markdown",
   "id": "f51f61b5",
   "metadata": {},
   "source": [
    "# Living Square Feet Binning"
   ]
  },
  {
   "cell_type": "markdown",
   "id": "b42e4da6",
   "metadata": {},
   "source": [
    "Question 1 Display visualization of Sale Price vs Above ground living area square feet."
   ]
  },
  {
   "cell_type": "code",
   "execution_count": 22,
   "id": "e5af9ef2",
   "metadata": {},
   "outputs": [],
   "source": [
    "# lsb.sellingpriceovergroundlevel()"
   ]
  },
  {
   "cell_type": "markdown",
   "id": "dddd2cde",
   "metadata": {},
   "source": [
    "{% include sellingpriceovergroundlevel.html %}"
   ]
  },
  {
   "cell_type": "markdown",
   "id": "a54469e6",
   "metadata": {},
   "source": [
    "Above we make a scatter plot of Close Price against Above ground living area square feetit. It is apparently a linear relationship."
   ]
  },
  {
   "cell_type": "markdown",
   "id": "6c193a79",
   "metadata": {},
   "source": [
    "Question 2 Display visualization of Sale Price vs Above ground living area square feet by Property Type."
   ]
  },
  {
   "cell_type": "code",
   "execution_count": 23,
   "id": "028e99af",
   "metadata": {},
   "outputs": [],
   "source": [
    "# lsb.livingsquarevspropertytype()"
   ]
  },
  {
   "cell_type": "markdown",
   "id": "f088bc38",
   "metadata": {},
   "source": [
    "{% include livingsquarevspropertytype.html %}"
   ]
  },
  {
   "cell_type": "markdown",
   "id": "9f5376af",
   "metadata": {},
   "source": [
    "In the above visualization we conclude mostly for all the Property types, ClosePrice and Living Area Square Feet shows a positive linear relationship.Living Area Square Feet Directly Propertional to ClosePrice."
   ]
  },
  {
   "cell_type": "markdown",
   "id": "a00ec514",
   "metadata": {},
   "source": [
    "Question 3 Display Correlation matrix for Close Price vs Above ground living area square feet by Property Type."
   ]
  },
  {
   "cell_type": "code",
   "execution_count": 24,
   "id": "76863179",
   "metadata": {},
   "outputs": [
    {
     "data": {
      "text/html": [
       "<div>\n",
       "<style scoped>\n",
       "    .dataframe tbody tr th:only-of-type {\n",
       "        vertical-align: middle;\n",
       "    }\n",
       "\n",
       "    .dataframe tbody tr th {\n",
       "        vertical-align: top;\n",
       "    }\n",
       "\n",
       "    .dataframe thead th {\n",
       "        text-align: right;\n",
       "    }\n",
       "</style>\n",
       "<table border=\"1\" class=\"dataframe\">\n",
       "  <thead>\n",
       "    <tr style=\"text-align: right;\">\n",
       "      <th></th>\n",
       "      <th></th>\n",
       "      <th>BuildingAreaTotal</th>\n",
       "      <th>ClosePrice</th>\n",
       "    </tr>\n",
       "    <tr>\n",
       "      <th>PropertyType</th>\n",
       "      <th></th>\n",
       "      <th></th>\n",
       "      <th></th>\n",
       "    </tr>\n",
       "  </thead>\n",
       "  <tbody>\n",
       "    <tr>\n",
       "      <th rowspan=\"2\" valign=\"top\">Commercial Sale</th>\n",
       "      <th>BuildingAreaTotal</th>\n",
       "      <td>1.000000</td>\n",
       "      <td>0.303826</td>\n",
       "    </tr>\n",
       "    <tr>\n",
       "      <th>ClosePrice</th>\n",
       "      <td>0.303826</td>\n",
       "      <td>1.000000</td>\n",
       "    </tr>\n",
       "    <tr>\n",
       "      <th rowspan=\"2\" valign=\"top\">Residential</th>\n",
       "      <th>BuildingAreaTotal</th>\n",
       "      <td>1.000000</td>\n",
       "      <td>0.858150</td>\n",
       "    </tr>\n",
       "    <tr>\n",
       "      <th>ClosePrice</th>\n",
       "      <td>0.858150</td>\n",
       "      <td>1.000000</td>\n",
       "    </tr>\n",
       "    <tr>\n",
       "      <th rowspan=\"2\" valign=\"top\">Residential Income</th>\n",
       "      <th>BuildingAreaTotal</th>\n",
       "      <td>1.000000</td>\n",
       "      <td>-0.150512</td>\n",
       "    </tr>\n",
       "    <tr>\n",
       "      <th>ClosePrice</th>\n",
       "      <td>-0.150512</td>\n",
       "      <td>1.000000</td>\n",
       "    </tr>\n",
       "    <tr>\n",
       "      <th rowspan=\"2\" valign=\"top\">Residential Lease</th>\n",
       "      <th>BuildingAreaTotal</th>\n",
       "      <td>1.000000</td>\n",
       "      <td>0.748190</td>\n",
       "    </tr>\n",
       "    <tr>\n",
       "      <th>ClosePrice</th>\n",
       "      <td>0.748190</td>\n",
       "      <td>1.000000</td>\n",
       "    </tr>\n",
       "  </tbody>\n",
       "</table>\n",
       "</div>"
      ],
      "text/plain": [
       "                                      BuildingAreaTotal  ClosePrice\n",
       "PropertyType                                                       \n",
       "Commercial Sale    BuildingAreaTotal           1.000000    0.303826\n",
       "                   ClosePrice                  0.303826    1.000000\n",
       "Residential        BuildingAreaTotal           1.000000    0.858150\n",
       "                   ClosePrice                  0.858150    1.000000\n",
       "Residential Income BuildingAreaTotal           1.000000   -0.150512\n",
       "                   ClosePrice                 -0.150512    1.000000\n",
       "Residential Lease  BuildingAreaTotal           1.000000    0.748190\n",
       "                   ClosePrice                  0.748190    1.000000"
      ]
     },
     "execution_count": 24,
     "metadata": {},
     "output_type": "execute_result"
    }
   ],
   "source": [
    "lsb.corrsqaurevspropertytype()"
   ]
  },
  {
   "cell_type": "markdown",
   "id": "050dedde",
   "metadata": {},
   "source": [
    "In the above result, we see that the correlation between ClosePrice and BuildingAreaTotal in Residential Property Type is the highest at 0.85, while in Residential Income Property type the correlation is the lowest at -0.15."
   ]
  },
  {
   "cell_type": "markdown",
   "id": "c6978083",
   "metadata": {},
   "source": [
    "Question 4 Display Correlation matrix for Close Price vs Above ground living area square feet by Property Sub Types."
   ]
  },
  {
   "cell_type": "code",
   "execution_count": 25,
   "id": "ce04c47a",
   "metadata": {},
   "outputs": [
    {
     "data": {
      "text/html": [
       "<div>\n",
       "<style scoped>\n",
       "    .dataframe tbody tr th:only-of-type {\n",
       "        vertical-align: middle;\n",
       "    }\n",
       "\n",
       "    .dataframe tbody tr th {\n",
       "        vertical-align: top;\n",
       "    }\n",
       "\n",
       "    .dataframe thead th {\n",
       "        text-align: right;\n",
       "    }\n",
       "</style>\n",
       "<table border=\"1\" class=\"dataframe\">\n",
       "  <thead>\n",
       "    <tr style=\"text-align: right;\">\n",
       "      <th></th>\n",
       "      <th></th>\n",
       "      <th>BuildingAreaTotal</th>\n",
       "      <th>ClosePrice</th>\n",
       "    </tr>\n",
       "    <tr>\n",
       "      <th>PropertySubType</th>\n",
       "      <th></th>\n",
       "      <th></th>\n",
       "      <th></th>\n",
       "    </tr>\n",
       "  </thead>\n",
       "  <tbody>\n",
       "    <tr>\n",
       "      <th rowspan=\"2\" valign=\"top\">2 Family</th>\n",
       "      <th>BuildingAreaTotal</th>\n",
       "      <td>1.000000</td>\n",
       "      <td>-0.150512</td>\n",
       "    </tr>\n",
       "    <tr>\n",
       "      <th>ClosePrice</th>\n",
       "      <td>-0.150512</td>\n",
       "      <td>1.000000</td>\n",
       "    </tr>\n",
       "    <tr>\n",
       "      <th rowspan=\"2\" valign=\"top\">3 Family</th>\n",
       "      <th>BuildingAreaTotal</th>\n",
       "      <td>NaN</td>\n",
       "      <td>NaN</td>\n",
       "    </tr>\n",
       "    <tr>\n",
       "      <th>ClosePrice</th>\n",
       "      <td>NaN</td>\n",
       "      <td>1.000000</td>\n",
       "    </tr>\n",
       "    <tr>\n",
       "      <th rowspan=\"2\" valign=\"top\">Apartment</th>\n",
       "      <th>BuildingAreaTotal</th>\n",
       "      <td>1.000000</td>\n",
       "      <td>0.830633</td>\n",
       "    </tr>\n",
       "    <tr>\n",
       "      <th>ClosePrice</th>\n",
       "      <td>0.830633</td>\n",
       "      <td>1.000000</td>\n",
       "    </tr>\n",
       "    <tr>\n",
       "      <th rowspan=\"2\" valign=\"top\">Commercial</th>\n",
       "      <th>BuildingAreaTotal</th>\n",
       "      <td>1.000000</td>\n",
       "      <td>0.303826</td>\n",
       "    </tr>\n",
       "    <tr>\n",
       "      <th>ClosePrice</th>\n",
       "      <td>0.303826</td>\n",
       "      <td>1.000000</td>\n",
       "    </tr>\n",
       "    <tr>\n",
       "      <th rowspan=\"2\" valign=\"top\">Condo/TH</th>\n",
       "      <th>BuildingAreaTotal</th>\n",
       "      <td>1.000000</td>\n",
       "      <td>0.723650</td>\n",
       "    </tr>\n",
       "    <tr>\n",
       "      <th>ClosePrice</th>\n",
       "      <td>0.723650</td>\n",
       "      <td>1.000000</td>\n",
       "    </tr>\n",
       "    <tr>\n",
       "      <th rowspan=\"2\" valign=\"top\">Mobile Home</th>\n",
       "      <th>BuildingAreaTotal</th>\n",
       "      <td>NaN</td>\n",
       "      <td>NaN</td>\n",
       "    </tr>\n",
       "    <tr>\n",
       "      <th>ClosePrice</th>\n",
       "      <td>NaN</td>\n",
       "      <td>NaN</td>\n",
       "    </tr>\n",
       "    <tr>\n",
       "      <th rowspan=\"2\" valign=\"top\">Single Family Residence</th>\n",
       "      <th>BuildingAreaTotal</th>\n",
       "      <td>1.000000</td>\n",
       "      <td>0.659458</td>\n",
       "    </tr>\n",
       "    <tr>\n",
       "      <th>ClosePrice</th>\n",
       "      <td>0.659458</td>\n",
       "      <td>1.000000</td>\n",
       "    </tr>\n",
       "    <tr>\n",
       "      <th rowspan=\"2\" valign=\"top\">Stock Cooperative</th>\n",
       "      <th>BuildingAreaTotal</th>\n",
       "      <td>1.000000</td>\n",
       "      <td>0.075480</td>\n",
       "    </tr>\n",
       "    <tr>\n",
       "      <th>ClosePrice</th>\n",
       "      <td>0.075480</td>\n",
       "      <td>1.000000</td>\n",
       "    </tr>\n",
       "    <tr>\n",
       "      <th rowspan=\"2\" valign=\"top\">Townhouse</th>\n",
       "      <th>BuildingAreaTotal</th>\n",
       "      <td>1.000000</td>\n",
       "      <td>0.423306</td>\n",
       "    </tr>\n",
       "    <tr>\n",
       "      <th>ClosePrice</th>\n",
       "      <td>0.423306</td>\n",
       "      <td>1.000000</td>\n",
       "    </tr>\n",
       "  </tbody>\n",
       "</table>\n",
       "</div>"
      ],
      "text/plain": [
       "                                           BuildingAreaTotal  ClosePrice\n",
       "PropertySubType                                                         \n",
       "2 Family                BuildingAreaTotal           1.000000   -0.150512\n",
       "                        ClosePrice                 -0.150512    1.000000\n",
       "3 Family                BuildingAreaTotal                NaN         NaN\n",
       "                        ClosePrice                       NaN    1.000000\n",
       "Apartment               BuildingAreaTotal           1.000000    0.830633\n",
       "                        ClosePrice                  0.830633    1.000000\n",
       "Commercial              BuildingAreaTotal           1.000000    0.303826\n",
       "                        ClosePrice                  0.303826    1.000000\n",
       "Condo/TH                BuildingAreaTotal           1.000000    0.723650\n",
       "                        ClosePrice                  0.723650    1.000000\n",
       "Mobile Home             BuildingAreaTotal                NaN         NaN\n",
       "                        ClosePrice                       NaN         NaN\n",
       "Single Family Residence BuildingAreaTotal           1.000000    0.659458\n",
       "                        ClosePrice                  0.659458    1.000000\n",
       "Stock Cooperative       BuildingAreaTotal           1.000000    0.075480\n",
       "                        ClosePrice                  0.075480    1.000000\n",
       "Townhouse               BuildingAreaTotal           1.000000    0.423306\n",
       "                        ClosePrice                  0.423306    1.000000"
      ]
     },
     "execution_count": 25,
     "metadata": {},
     "output_type": "execute_result"
    }
   ],
   "source": [
    "lsb.corrsquarevssubpropertytype()"
   ]
  },
  {
   "cell_type": "markdown",
   "id": "b2ea20f2",
   "metadata": {},
   "source": [
    "In the above result, we see that the correlation between ClosePrice and BuildingAreaTotal in Apartment Property Sub Type is the highest at 0.83, while in 2 Family Property Sub type the correlation is the lowest at -0.15. We can then conclude that Stock Cooperative, Condo/TH and Single Family Residence are the major continuous factors associated with the ClosePrice of a Property Type."
   ]
  },
  {
   "cell_type": "markdown",
   "id": "6ad3c209",
   "metadata": {},
   "source": [
    "Question 5 Display visualization of  Median Selling Price and Living Square Feet Binning."
   ]
  },
  {
   "cell_type": "code",
   "execution_count": 26,
   "id": "8010580f",
   "metadata": {},
   "outputs": [],
   "source": [
    "# lsb.mediansaleprice()"
   ]
  },
  {
   "cell_type": "markdown",
   "id": "13eb22c5",
   "metadata": {},
   "source": [
    "{% include mediansaleprice.html %}"
   ]
  },
  {
   "cell_type": "markdown",
   "id": "d7b4703a",
   "metadata": {},
   "source": [
    "From the above graph, we can conclude the Median Sold Price increases with the increasing Living Area Square Feet ."
   ]
  },
  {
   "cell_type": "markdown",
   "id": "1584dff9",
   "metadata": {},
   "source": [
    "Question 6 Display visualization of Frequency Of Property and Living Square Feet Binning."
   ]
  },
  {
   "cell_type": "code",
   "execution_count": 27,
   "id": "f2bb5605",
   "metadata": {},
   "outputs": [],
   "source": [
    "# lsb.frequencyproperty()"
   ]
  },
  {
   "cell_type": "markdown",
   "id": "cf4d5e20",
   "metadata": {},
   "source": [
    "{% include frequencyproperty.html %}"
   ]
  },
  {
   "cell_type": "markdown",
   "id": "2503d5da",
   "metadata": {},
   "source": [
    "Following are the observation that we can conclude from above visualization:\n",
    "\n",
    "1) More Property were sold in small living area square feet. \n",
    "2) The highest number of property of 230 were sold in living area square feet between 1000 and 1500.\n",
    "3) The lowest number of property of 1 were sold in living area square feet between 5500 and 6000.\n",
    "4) We can conclude small living area square feet are more friendly. "
   ]
  },
  {
   "cell_type": "markdown",
   "id": "6fdfd4b1",
   "metadata": {},
   "source": [
    "Question 7 Display visualization of Property Time on Market and Living Square Feet Binning."
   ]
  },
  {
   "cell_type": "code",
   "execution_count": 28,
   "id": "62bc8133",
   "metadata": {},
   "outputs": [],
   "source": [
    "# lsb.medianproperty()"
   ]
  },
  {
   "cell_type": "markdown",
   "id": "070abd7a",
   "metadata": {},
   "source": [
    "{% include medianproperty.html %}"
   ]
  },
  {
   "cell_type": "markdown",
   "id": "fdba0f7a",
   "metadata": {},
   "source": [
    "Following are the observation that we can conclude from above visualization:\n",
    "\n",
    "1) Properties with small living area square feet were sold fastly. \n",
    "2) Time On Market of living area square feet between 4500 and 5000 was 26 days.\n"
   ]
  },
  {
   "cell_type": "markdown",
   "id": "8d5aee11",
   "metadata": {},
   "source": [
    "# Direction Faces Binning"
   ]
  },
  {
   "cell_type": "markdown",
   "id": "14823fc1",
   "metadata": {},
   "source": [
    "Question 1 Display visualization of Existing Property Sales by Region."
   ]
  },
  {
   "cell_type": "code",
   "execution_count": 29,
   "id": "06979636",
   "metadata": {},
   "outputs": [],
   "source": [
    "# df.percentageproperty()"
   ]
  },
  {
   "cell_type": "markdown",
   "id": "5dd70f0e",
   "metadata": {},
   "source": [
    "{% include percentageproperty.html %}"
   ]
  },
  {
   "cell_type": "markdown",
   "id": "0eb4f5ac",
   "metadata": {},
   "source": [
    "Following are the observation that we can conclude from above visualization:\n",
    "1) More Properties were sold in East Direction and having 28.2% of the total property sales. \n",
    "2) Southwest Direction were less property sold account and havig 2.82% of the total property sales.\n",
    "3) North Direction were the second highest in property sold account and having 26.8% of the total property sales.\n"
   ]
  },
  {
   "cell_type": "markdown",
   "id": "5676a886",
   "metadata": {},
   "source": [
    "Question 2 Display visualization Median Sale Price vs Direction Faces of Property."
   ]
  },
  {
   "cell_type": "code",
   "execution_count": 30,
   "id": "1a2261b2",
   "metadata": {},
   "outputs": [],
   "source": [
    "# df.mediansale()"
   ]
  },
  {
   "cell_type": "markdown",
   "id": "5f629a36",
   "metadata": {},
   "source": [
    "{% include mediansale.html %}"
   ]
  },
  {
   "cell_type": "markdown",
   "id": "36b41a8d",
   "metadata": {},
   "source": [
    "Following are the observation that we can conclude from above visualization:\n",
    "1) Median Sale Price of North and East directions were $570K and $530K.\n",
    "2) Median Sale Price of South and West directions were $410K and $420K.\n",
    "3) The highest Median Sale Price of $700K was found in Southeast Direction."
   ]
  },
  {
   "cell_type": "markdown",
   "id": "6ac6a97d",
   "metadata": {},
   "source": [
    "Question 3 Display visualization Property Market Trends vs Direction Faces of Property."
   ]
  },
  {
   "cell_type": "code",
   "execution_count": 31,
   "id": "d642f914",
   "metadata": {},
   "outputs": [],
   "source": [
    "# df.daysonmarket()"
   ]
  },
  {
   "cell_type": "markdown",
   "id": "3820a98d",
   "metadata": {},
   "source": [
    "{% include daysonmarket.html %}"
   ]
  },
  {
   "cell_type": "markdown",
   "id": "05020139",
   "metadata": {},
   "source": [
    "Following are the observation that we can conclude from above visualization:\n",
    "1) In East Direction, The time of Property on market were longer and the value were 61 days.\n",
    "2) Properties in Southwest Direction were sold fastly and had lesser time on Market."
   ]
  },
  {
   "cell_type": "markdown",
   "id": "d50522be",
   "metadata": {},
   "source": [
    "## Question : Whether the distance of Power lines, Gas lines, Cell tower and Township boundaries affecting the property sale?"
   ]
  },
  {
   "cell_type": "code",
   "execution_count": 32,
   "id": "6db9c05d",
   "metadata": {},
   "outputs": [],
   "source": [
    "from realestate import *"
   ]
  },
  {
   "cell_type": "code",
   "execution_count": 33,
   "id": "0bc1fd51",
   "metadata": {},
   "outputs": [],
   "source": [
    "# closed_prop_count()"
   ]
  },
  {
   "cell_type": "markdown",
   "id": "1d0f5a37",
   "metadata": {},
   "source": [
    "{% include closed_prop_count.html %}"
   ]
  },
  {
   "cell_type": "markdown",
   "id": "4f7306f1",
   "metadata": {},
   "source": [
    "# Observation - Sold Properties:\n",
    "\n",
    "    From the above graph, we can get the no.of properties sold between 2018 and 2021.\n",
    "    \n",
    "    We have 4 category of property type. We could see that maximum sale for Residential property and minimum sales occured under Commercial category.\n",
    "    \n",
    "    In the year 2019, 111 Residential properties were sold.\n",
    "    "
   ]
  },
  {
   "cell_type": "markdown",
   "id": "62c087f1",
   "metadata": {},
   "source": [
    "# Sales vs Powerlines:\n",
    "\n",
    "1. We are going to find out the no.of sales against the powerline distance with percentiles of 25,50 and 75."
   ]
  },
  {
   "cell_type": "code",
   "execution_count": 34,
   "id": "27431c73",
   "metadata": {},
   "outputs": [
    {
     "data": {
      "text/html": [
       "<div>\n",
       "<style scoped>\n",
       "    .dataframe tbody tr th:only-of-type {\n",
       "        vertical-align: middle;\n",
       "    }\n",
       "\n",
       "    .dataframe tbody tr th {\n",
       "        vertical-align: top;\n",
       "    }\n",
       "\n",
       "    .dataframe thead th {\n",
       "        text-align: right;\n",
       "    }\n",
       "</style>\n",
       "<table border=\"1\" class=\"dataframe\">\n",
       "  <thead>\n",
       "    <tr style=\"text-align: right;\">\n",
       "      <th></th>\n",
       "      <th>house_lat</th>\n",
       "      <th>house_long</th>\n",
       "      <th>pwr_dis(m)</th>\n",
       "      <th>town_dis(m)</th>\n",
       "      <th>gas_dis(m)</th>\n",
       "      <th>cell_dis(m)</th>\n",
       "      <th>ClosePrice</th>\n",
       "      <th>PostalCode</th>\n",
       "      <th>BuildingAreaTotal</th>\n",
       "      <th>BedroomsTotal</th>\n",
       "      <th>BathroomsTotalInteger</th>\n",
       "      <th>RoomsTotal</th>\n",
       "      <th>Property_closed_year</th>\n",
       "    </tr>\n",
       "  </thead>\n",
       "  <tbody>\n",
       "    <tr>\n",
       "      <th>count</th>\n",
       "      <td>443.000000</td>\n",
       "      <td>443.000000</td>\n",
       "      <td>443.000000</td>\n",
       "      <td>443.000000</td>\n",
       "      <td>443.000000</td>\n",
       "      <td>443.000000</td>\n",
       "      <td>4.430000e+02</td>\n",
       "      <td>443.000000</td>\n",
       "      <td>443.000000</td>\n",
       "      <td>443.000000</td>\n",
       "      <td>443.000000</td>\n",
       "      <td>438.000000</td>\n",
       "      <td>443.000000</td>\n",
       "    </tr>\n",
       "    <tr>\n",
       "      <th>mean</th>\n",
       "      <td>40.541903</td>\n",
       "      <td>-74.372505</td>\n",
       "      <td>1173.978465</td>\n",
       "      <td>885.385753</td>\n",
       "      <td>2149.934697</td>\n",
       "      <td>24016.923595</td>\n",
       "      <td>3.502833e+05</td>\n",
       "      <td>8821.602709</td>\n",
       "      <td>864.568849</td>\n",
       "      <td>3.250564</td>\n",
       "      <td>2.367946</td>\n",
       "      <td>7.383562</td>\n",
       "      <td>2008.347630</td>\n",
       "    </tr>\n",
       "    <tr>\n",
       "      <th>std</th>\n",
       "      <td>0.031887</td>\n",
       "      <td>0.025963</td>\n",
       "      <td>885.694426</td>\n",
       "      <td>661.713943</td>\n",
       "      <td>1461.908953</td>\n",
       "      <td>3810.349901</td>\n",
       "      <td>2.347563e+05</td>\n",
       "      <td>7.146191</td>\n",
       "      <td>1152.817684</td>\n",
       "      <td>1.146692</td>\n",
       "      <td>1.007915</td>\n",
       "      <td>2.038284</td>\n",
       "      <td>47.691611</td>\n",
       "    </tr>\n",
       "    <tr>\n",
       "      <th>min</th>\n",
       "      <td>40.493233</td>\n",
       "      <td>-74.424707</td>\n",
       "      <td>46.636729</td>\n",
       "      <td>11.516505</td>\n",
       "      <td>72.639285</td>\n",
       "      <td>16554.272920</td>\n",
       "      <td>0.000000e+00</td>\n",
       "      <td>8817.000000</td>\n",
       "      <td>0.000000</td>\n",
       "      <td>0.000000</td>\n",
       "      <td>0.000000</td>\n",
       "      <td>0.000000</td>\n",
       "      <td>1800.000000</td>\n",
       "    </tr>\n",
       "    <tr>\n",
       "      <th>25%</th>\n",
       "      <td>40.514408</td>\n",
       "      <td>-74.393955</td>\n",
       "      <td>472.814825</td>\n",
       "      <td>287.314826</td>\n",
       "      <td>968.172017</td>\n",
       "      <td>20899.827405</td>\n",
       "      <td>1.925000e+05</td>\n",
       "      <td>8817.000000</td>\n",
       "      <td>0.000000</td>\n",
       "      <td>3.000000</td>\n",
       "      <td>2.000000</td>\n",
       "      <td>6.000000</td>\n",
       "      <td>2018.000000</td>\n",
       "    </tr>\n",
       "    <tr>\n",
       "      <th>50%</th>\n",
       "      <td>40.533910</td>\n",
       "      <td>-74.374721</td>\n",
       "      <td>948.209774</td>\n",
       "      <td>716.647375</td>\n",
       "      <td>1917.152528</td>\n",
       "      <td>23728.793640</td>\n",
       "      <td>3.650000e+05</td>\n",
       "      <td>8820.000000</td>\n",
       "      <td>0.000000</td>\n",
       "      <td>3.000000</td>\n",
       "      <td>2.000000</td>\n",
       "      <td>7.000000</td>\n",
       "      <td>2019.000000</td>\n",
       "    </tr>\n",
       "    <tr>\n",
       "      <th>75%</th>\n",
       "      <td>40.569632</td>\n",
       "      <td>-74.350387</td>\n",
       "      <td>1637.737223</td>\n",
       "      <td>1396.292616</td>\n",
       "      <td>3011.845677</td>\n",
       "      <td>27383.916690</td>\n",
       "      <td>5.099250e+05</td>\n",
       "      <td>8820.000000</td>\n",
       "      <td>1650.500000</td>\n",
       "      <td>4.000000</td>\n",
       "      <td>3.000000</td>\n",
       "      <td>9.000000</td>\n",
       "      <td>2020.000000</td>\n",
       "    </tr>\n",
       "    <tr>\n",
       "      <th>max</th>\n",
       "      <td>40.604701</td>\n",
       "      <td>-74.317699</td>\n",
       "      <td>4396.900472</td>\n",
       "      <td>2576.676889</td>\n",
       "      <td>5815.771806</td>\n",
       "      <td>30602.585450</td>\n",
       "      <td>1.090000e+06</td>\n",
       "      <td>8837.000000</td>\n",
       "      <td>9350.000000</td>\n",
       "      <td>6.000000</td>\n",
       "      <td>5.000000</td>\n",
       "      <td>15.000000</td>\n",
       "      <td>2021.000000</td>\n",
       "    </tr>\n",
       "  </tbody>\n",
       "</table>\n",
       "</div>"
      ],
      "text/plain": [
       "        house_lat  house_long   pwr_dis(m)  town_dis(m)   gas_dis(m)  \\\n",
       "count  443.000000  443.000000   443.000000   443.000000   443.000000   \n",
       "mean    40.541903  -74.372505  1173.978465   885.385753  2149.934697   \n",
       "std      0.031887    0.025963   885.694426   661.713943  1461.908953   \n",
       "min     40.493233  -74.424707    46.636729    11.516505    72.639285   \n",
       "25%     40.514408  -74.393955   472.814825   287.314826   968.172017   \n",
       "50%     40.533910  -74.374721   948.209774   716.647375  1917.152528   \n",
       "75%     40.569632  -74.350387  1637.737223  1396.292616  3011.845677   \n",
       "max     40.604701  -74.317699  4396.900472  2576.676889  5815.771806   \n",
       "\n",
       "        cell_dis(m)    ClosePrice   PostalCode  BuildingAreaTotal  \\\n",
       "count    443.000000  4.430000e+02   443.000000         443.000000   \n",
       "mean   24016.923595  3.502833e+05  8821.602709         864.568849   \n",
       "std     3810.349901  2.347563e+05     7.146191        1152.817684   \n",
       "min    16554.272920  0.000000e+00  8817.000000           0.000000   \n",
       "25%    20899.827405  1.925000e+05  8817.000000           0.000000   \n",
       "50%    23728.793640  3.650000e+05  8820.000000           0.000000   \n",
       "75%    27383.916690  5.099250e+05  8820.000000        1650.500000   \n",
       "max    30602.585450  1.090000e+06  8837.000000        9350.000000   \n",
       "\n",
       "       BedroomsTotal  BathroomsTotalInteger  RoomsTotal  Property_closed_year  \n",
       "count     443.000000             443.000000  438.000000            443.000000  \n",
       "mean        3.250564               2.367946    7.383562           2008.347630  \n",
       "std         1.146692               1.007915    2.038284             47.691611  \n",
       "min         0.000000               0.000000    0.000000           1800.000000  \n",
       "25%         3.000000               2.000000    6.000000           2018.000000  \n",
       "50%         3.000000               2.000000    7.000000           2019.000000  \n",
       "75%         4.000000               3.000000    9.000000           2020.000000  \n",
       "max         6.000000               5.000000   15.000000           2021.000000  "
      ]
     },
     "execution_count": 34,
     "metadata": {},
     "output_type": "execute_result"
    }
   ],
   "source": [
    "describe_closed = mls_data().describe()\n",
    "\n",
    "describe_closed"
   ]
  },
  {
   "cell_type": "markdown",
   "id": "c4ebbea3",
   "metadata": {},
   "source": [
    "## Observation:\n",
    "\n",
    "From the above information, we can get the below deatils:\n",
    "\n",
    "Power line distance:\n",
    "\n",
    "> 25% of the properties has less than or average of 471m powerline distance,\n",
    "\n",
    "> 50% of the properties has less than or average of 946m powerline distance,\n",
    "\n",
    "> 75% of the properties has less than or average 1635m powerline distance.\n",
    "\n",
    "For further, we can find out how many properties were sold and what property type has more sale between 25%, 50% and 75% of powerline distance."
   ]
  },
  {
   "cell_type": "code",
   "execution_count": 35,
   "id": "7c768179",
   "metadata": {},
   "outputs": [],
   "source": [
    "# power_100m = power_100m()"
   ]
  },
  {
   "cell_type": "markdown",
   "id": "d13c95bc",
   "metadata": {},
   "source": [
    "{% include  power_100m.html %}"
   ]
  },
  {
   "cell_type": "markdown",
   "id": "bf608b1e",
   "metadata": {},
   "source": [
    "Observation:\n",
    "> Less number of propwerties were sold within the powerline distance of 100m.\n",
    "> Maximum sales of 4 count in the year 2019."
   ]
  },
  {
   "cell_type": "code",
   "execution_count": 36,
   "id": "33b44056",
   "metadata": {},
   "outputs": [],
   "source": [
    "# pwr1 = powerline_eda_25percent()"
   ]
  },
  {
   "cell_type": "markdown",
   "id": "9d06380f",
   "metadata": {},
   "source": [
    "{% include  powerline_eda_25percent.html %}"
   ]
  },
  {
   "cell_type": "markdown",
   "id": "e7d2581f",
   "metadata": {},
   "source": [
    "Obervation:\n",
    "\n",
    "Within the powerline distance of 474m, maximum 27 Residential properties were sold."
   ]
  },
  {
   "cell_type": "code",
   "execution_count": 37,
   "id": "10e5c010",
   "metadata": {},
   "outputs": [],
   "source": [
    "# pwr2 = powerline_eda_50percent()"
   ]
  },
  {
   "cell_type": "markdown",
   "id": "2448eff0",
   "metadata": {},
   "source": [
    "{% include  powerline_eda_50percent.html %}"
   ]
  },
  {
   "cell_type": "markdown",
   "id": "56fe7d46",
   "metadata": {},
   "source": [
    "Observation:\n",
    "\n",
    "37 Residential properties were sold eventhough powerline distance lies between 474m and 948m."
   ]
  },
  {
   "cell_type": "code",
   "execution_count": 38,
   "id": "22337b57",
   "metadata": {},
   "outputs": [],
   "source": [
    "# pwr3 = powerline_eda_75percent()"
   ]
  },
  {
   "cell_type": "markdown",
   "id": "ffcb6ddd",
   "metadata": {},
   "source": [
    "{% include powerline_eda_75percent.html %}"
   ]
  },
  {
   "cell_type": "markdown",
   "id": "a588549d",
   "metadata": {},
   "source": [
    "Observation:\n",
    "\n",
    "30 Residential properties were sold though the powerline distance has in the range of 948m and 1.6km."
   ]
  },
  {
   "cell_type": "markdown",
   "id": "59ad8153",
   "metadata": {},
   "source": [
    "# Observation - Power Lines:\n",
    "\n",
    "By oberving the sales over power line distance, we could see the maximum sales eventhough the distance between the property and power lines is more than 100m.\n",
    "\n",
    "There was a Maximum sales when powerline distance in the range of 474m and 948m (37 sales count) && 948m and 1.6km(30 sales count).\n",
    "\n",
    "If the power line distance increases we can still make good number od sales. Hence, its not afftecting the property sale."
   ]
  },
  {
   "cell_type": "markdown",
   "id": "0ddb1fda",
   "metadata": {},
   "source": [
    "# Sales vs Gas Lines"
   ]
  },
  {
   "cell_type": "code",
   "execution_count": 39,
   "id": "8cba68e5",
   "metadata": {},
   "outputs": [
    {
     "data": {
      "text/html": [
       "<div>\n",
       "<style scoped>\n",
       "    .dataframe tbody tr th:only-of-type {\n",
       "        vertical-align: middle;\n",
       "    }\n",
       "\n",
       "    .dataframe tbody tr th {\n",
       "        vertical-align: top;\n",
       "    }\n",
       "\n",
       "    .dataframe thead th {\n",
       "        text-align: right;\n",
       "    }\n",
       "</style>\n",
       "<table border=\"1\" class=\"dataframe\">\n",
       "  <thead>\n",
       "    <tr style=\"text-align: right;\">\n",
       "      <th></th>\n",
       "      <th>house_lat</th>\n",
       "      <th>house_long</th>\n",
       "      <th>pwr_dis(m)</th>\n",
       "      <th>town_dis(m)</th>\n",
       "      <th>gas_dis(m)</th>\n",
       "      <th>cell_dis(m)</th>\n",
       "      <th>ClosePrice</th>\n",
       "      <th>PostalCode</th>\n",
       "      <th>BuildingAreaTotal</th>\n",
       "      <th>BedroomsTotal</th>\n",
       "      <th>BathroomsTotalInteger</th>\n",
       "      <th>RoomsTotal</th>\n",
       "      <th>Property_closed_year</th>\n",
       "    </tr>\n",
       "  </thead>\n",
       "  <tbody>\n",
       "    <tr>\n",
       "      <th>count</th>\n",
       "      <td>443.000000</td>\n",
       "      <td>443.000000</td>\n",
       "      <td>443.000000</td>\n",
       "      <td>443.000000</td>\n",
       "      <td>443.000000</td>\n",
       "      <td>443.000000</td>\n",
       "      <td>4.430000e+02</td>\n",
       "      <td>443.000000</td>\n",
       "      <td>443.000000</td>\n",
       "      <td>443.000000</td>\n",
       "      <td>443.000000</td>\n",
       "      <td>438.000000</td>\n",
       "      <td>443.000000</td>\n",
       "    </tr>\n",
       "    <tr>\n",
       "      <th>mean</th>\n",
       "      <td>40.541903</td>\n",
       "      <td>-74.372505</td>\n",
       "      <td>1173.978465</td>\n",
       "      <td>885.385753</td>\n",
       "      <td>2149.934697</td>\n",
       "      <td>24016.923595</td>\n",
       "      <td>3.502833e+05</td>\n",
       "      <td>8821.602709</td>\n",
       "      <td>864.568849</td>\n",
       "      <td>3.250564</td>\n",
       "      <td>2.367946</td>\n",
       "      <td>7.383562</td>\n",
       "      <td>2008.347630</td>\n",
       "    </tr>\n",
       "    <tr>\n",
       "      <th>std</th>\n",
       "      <td>0.031887</td>\n",
       "      <td>0.025963</td>\n",
       "      <td>885.694426</td>\n",
       "      <td>661.713943</td>\n",
       "      <td>1461.908953</td>\n",
       "      <td>3810.349901</td>\n",
       "      <td>2.347563e+05</td>\n",
       "      <td>7.146191</td>\n",
       "      <td>1152.817684</td>\n",
       "      <td>1.146692</td>\n",
       "      <td>1.007915</td>\n",
       "      <td>2.038284</td>\n",
       "      <td>47.691611</td>\n",
       "    </tr>\n",
       "    <tr>\n",
       "      <th>min</th>\n",
       "      <td>40.493233</td>\n",
       "      <td>-74.424707</td>\n",
       "      <td>46.636729</td>\n",
       "      <td>11.516505</td>\n",
       "      <td>72.639285</td>\n",
       "      <td>16554.272920</td>\n",
       "      <td>0.000000e+00</td>\n",
       "      <td>8817.000000</td>\n",
       "      <td>0.000000</td>\n",
       "      <td>0.000000</td>\n",
       "      <td>0.000000</td>\n",
       "      <td>0.000000</td>\n",
       "      <td>1800.000000</td>\n",
       "    </tr>\n",
       "    <tr>\n",
       "      <th>25%</th>\n",
       "      <td>40.514408</td>\n",
       "      <td>-74.393955</td>\n",
       "      <td>472.814825</td>\n",
       "      <td>287.314826</td>\n",
       "      <td>968.172017</td>\n",
       "      <td>20899.827405</td>\n",
       "      <td>1.925000e+05</td>\n",
       "      <td>8817.000000</td>\n",
       "      <td>0.000000</td>\n",
       "      <td>3.000000</td>\n",
       "      <td>2.000000</td>\n",
       "      <td>6.000000</td>\n",
       "      <td>2018.000000</td>\n",
       "    </tr>\n",
       "    <tr>\n",
       "      <th>50%</th>\n",
       "      <td>40.533910</td>\n",
       "      <td>-74.374721</td>\n",
       "      <td>948.209774</td>\n",
       "      <td>716.647375</td>\n",
       "      <td>1917.152528</td>\n",
       "      <td>23728.793640</td>\n",
       "      <td>3.650000e+05</td>\n",
       "      <td>8820.000000</td>\n",
       "      <td>0.000000</td>\n",
       "      <td>3.000000</td>\n",
       "      <td>2.000000</td>\n",
       "      <td>7.000000</td>\n",
       "      <td>2019.000000</td>\n",
       "    </tr>\n",
       "    <tr>\n",
       "      <th>75%</th>\n",
       "      <td>40.569632</td>\n",
       "      <td>-74.350387</td>\n",
       "      <td>1637.737223</td>\n",
       "      <td>1396.292616</td>\n",
       "      <td>3011.845677</td>\n",
       "      <td>27383.916690</td>\n",
       "      <td>5.099250e+05</td>\n",
       "      <td>8820.000000</td>\n",
       "      <td>1650.500000</td>\n",
       "      <td>4.000000</td>\n",
       "      <td>3.000000</td>\n",
       "      <td>9.000000</td>\n",
       "      <td>2020.000000</td>\n",
       "    </tr>\n",
       "    <tr>\n",
       "      <th>max</th>\n",
       "      <td>40.604701</td>\n",
       "      <td>-74.317699</td>\n",
       "      <td>4396.900472</td>\n",
       "      <td>2576.676889</td>\n",
       "      <td>5815.771806</td>\n",
       "      <td>30602.585450</td>\n",
       "      <td>1.090000e+06</td>\n",
       "      <td>8837.000000</td>\n",
       "      <td>9350.000000</td>\n",
       "      <td>6.000000</td>\n",
       "      <td>5.000000</td>\n",
       "      <td>15.000000</td>\n",
       "      <td>2021.000000</td>\n",
       "    </tr>\n",
       "  </tbody>\n",
       "</table>\n",
       "</div>"
      ],
      "text/plain": [
       "        house_lat  house_long   pwr_dis(m)  town_dis(m)   gas_dis(m)  \\\n",
       "count  443.000000  443.000000   443.000000   443.000000   443.000000   \n",
       "mean    40.541903  -74.372505  1173.978465   885.385753  2149.934697   \n",
       "std      0.031887    0.025963   885.694426   661.713943  1461.908953   \n",
       "min     40.493233  -74.424707    46.636729    11.516505    72.639285   \n",
       "25%     40.514408  -74.393955   472.814825   287.314826   968.172017   \n",
       "50%     40.533910  -74.374721   948.209774   716.647375  1917.152528   \n",
       "75%     40.569632  -74.350387  1637.737223  1396.292616  3011.845677   \n",
       "max     40.604701  -74.317699  4396.900472  2576.676889  5815.771806   \n",
       "\n",
       "        cell_dis(m)    ClosePrice   PostalCode  BuildingAreaTotal  \\\n",
       "count    443.000000  4.430000e+02   443.000000         443.000000   \n",
       "mean   24016.923595  3.502833e+05  8821.602709         864.568849   \n",
       "std     3810.349901  2.347563e+05     7.146191        1152.817684   \n",
       "min    16554.272920  0.000000e+00  8817.000000           0.000000   \n",
       "25%    20899.827405  1.925000e+05  8817.000000           0.000000   \n",
       "50%    23728.793640  3.650000e+05  8820.000000           0.000000   \n",
       "75%    27383.916690  5.099250e+05  8820.000000        1650.500000   \n",
       "max    30602.585450  1.090000e+06  8837.000000        9350.000000   \n",
       "\n",
       "       BedroomsTotal  BathroomsTotalInteger  RoomsTotal  Property_closed_year  \n",
       "count     443.000000             443.000000  438.000000            443.000000  \n",
       "mean        3.250564               2.367946    7.383562           2008.347630  \n",
       "std         1.146692               1.007915    2.038284             47.691611  \n",
       "min         0.000000               0.000000    0.000000           1800.000000  \n",
       "25%         3.000000               2.000000    6.000000           2018.000000  \n",
       "50%         3.000000               2.000000    7.000000           2019.000000  \n",
       "75%         4.000000               3.000000    9.000000           2020.000000  \n",
       "max         6.000000               5.000000   15.000000           2021.000000  "
      ]
     },
     "execution_count": 39,
     "metadata": {},
     "output_type": "execute_result"
    }
   ],
   "source": [
    "describe_closed = mls_data().describe()\n",
    "\n",
    "describe_closed"
   ]
  },
  {
   "cell_type": "markdown",
   "id": "c1e87e9c",
   "metadata": {},
   "source": [
    "## Observation:\n",
    "\n",
    "From the above information, we can get the below deatils:\n",
    "\n",
    "Gas line distance:\n",
    "\n",
    "> 25% of the properties has less than or average of 968m gasline distance,\n",
    "\n",
    "> 50% of the properties has less than or average of 1917m gasline distance,\n",
    "\n",
    "> 75% of the properties has less than or average 3011m gasline distance.\n",
    "\n",
    "For further, we can find out how many properties were sold and what property type has more sale between 25%, 50% and 75% of gasline distance"
   ]
  },
  {
   "cell_type": "code",
   "execution_count": 40,
   "id": "acec72bf",
   "metadata": {},
   "outputs": [],
   "source": [
    "# gas_100m = gas_100m()"
   ]
  },
  {
   "cell_type": "markdown",
   "id": "f60dd8ca",
   "metadata": {},
   "source": [
    "{% include gas_100m.html %}"
   ]
  },
  {
   "cell_type": "markdown",
   "id": "560cc53e",
   "metadata": {},
   "source": [
    "From the above figure, we could see that there is no sale within 100m in the year of 2019.\n",
    "\n",
    "Maximum of 2 properties were sold which is in Residential category."
   ]
  },
  {
   "cell_type": "code",
   "execution_count": 41,
   "id": "24e3e117",
   "metadata": {},
   "outputs": [],
   "source": [
    "# gas1 = gasline_eda_25percent()"
   ]
  },
  {
   "cell_type": "markdown",
   "id": "65cef0b8",
   "metadata": {},
   "source": [
    "{% include gasline_eda_25percent.html %}"
   ]
  },
  {
   "cell_type": "code",
   "execution_count": 42,
   "id": "c0897a61",
   "metadata": {},
   "outputs": [],
   "source": [
    "# gas2 = gasline_eda_50percent()"
   ]
  },
  {
   "cell_type": "markdown",
   "id": "d21d0dba",
   "metadata": {},
   "source": [
    "{% include gasline_eda_50percent.html %}"
   ]
  },
  {
   "cell_type": "code",
   "execution_count": 43,
   "id": "dcdbc605",
   "metadata": {},
   "outputs": [],
   "source": [
    "# gas3 = gasline_eda_75percent()"
   ]
  },
  {
   "cell_type": "markdown",
   "id": "12b661fc",
   "metadata": {},
   "source": [
    "{% include gasline_eda_75percent.html %}"
   ]
  },
  {
   "cell_type": "markdown",
   "id": "af07eda4",
   "metadata": {},
   "source": [
    "# Observation - Gas Lines:\n",
    "\n",
    "By oberving the sales over gas line distance, we could see that maximum sales occured eventhough the distance between the property and power lines is more than 100m.\n",
    "\n",
    "Maximum sales occured when powerline distance in the range of 945m (31 sales count) && 945m and 1.9km(31 sales count).\n",
    "\n",
    "Property sale did not afftected when there is a increase in gas lines distance."
   ]
  },
  {
   "cell_type": "markdown",
   "id": "77c9ae26",
   "metadata": {},
   "source": [
    "# Sales vs Cell Towers"
   ]
  },
  {
   "cell_type": "code",
   "execution_count": 44,
   "id": "42277461",
   "metadata": {},
   "outputs": [
    {
     "data": {
      "text/html": [
       "<div>\n",
       "<style scoped>\n",
       "    .dataframe tbody tr th:only-of-type {\n",
       "        vertical-align: middle;\n",
       "    }\n",
       "\n",
       "    .dataframe tbody tr th {\n",
       "        vertical-align: top;\n",
       "    }\n",
       "\n",
       "    .dataframe thead th {\n",
       "        text-align: right;\n",
       "    }\n",
       "</style>\n",
       "<table border=\"1\" class=\"dataframe\">\n",
       "  <thead>\n",
       "    <tr style=\"text-align: right;\">\n",
       "      <th></th>\n",
       "      <th>house_lat</th>\n",
       "      <th>house_long</th>\n",
       "      <th>pwr_dis(m)</th>\n",
       "      <th>town_dis(m)</th>\n",
       "      <th>gas_dis(m)</th>\n",
       "      <th>cell_dis(m)</th>\n",
       "      <th>ClosePrice</th>\n",
       "      <th>PostalCode</th>\n",
       "      <th>BuildingAreaTotal</th>\n",
       "      <th>BedroomsTotal</th>\n",
       "      <th>BathroomsTotalInteger</th>\n",
       "      <th>RoomsTotal</th>\n",
       "      <th>Property_closed_year</th>\n",
       "    </tr>\n",
       "  </thead>\n",
       "  <tbody>\n",
       "    <tr>\n",
       "      <th>count</th>\n",
       "      <td>443.000000</td>\n",
       "      <td>443.000000</td>\n",
       "      <td>443.000000</td>\n",
       "      <td>443.000000</td>\n",
       "      <td>443.000000</td>\n",
       "      <td>443.000000</td>\n",
       "      <td>4.430000e+02</td>\n",
       "      <td>443.000000</td>\n",
       "      <td>443.000000</td>\n",
       "      <td>443.000000</td>\n",
       "      <td>443.000000</td>\n",
       "      <td>438.000000</td>\n",
       "      <td>443.000000</td>\n",
       "    </tr>\n",
       "    <tr>\n",
       "      <th>mean</th>\n",
       "      <td>40.541903</td>\n",
       "      <td>-74.372505</td>\n",
       "      <td>1173.978465</td>\n",
       "      <td>885.385753</td>\n",
       "      <td>2149.934697</td>\n",
       "      <td>24016.923595</td>\n",
       "      <td>3.502833e+05</td>\n",
       "      <td>8821.602709</td>\n",
       "      <td>864.568849</td>\n",
       "      <td>3.250564</td>\n",
       "      <td>2.367946</td>\n",
       "      <td>7.383562</td>\n",
       "      <td>2008.347630</td>\n",
       "    </tr>\n",
       "    <tr>\n",
       "      <th>std</th>\n",
       "      <td>0.031887</td>\n",
       "      <td>0.025963</td>\n",
       "      <td>885.694426</td>\n",
       "      <td>661.713943</td>\n",
       "      <td>1461.908953</td>\n",
       "      <td>3810.349901</td>\n",
       "      <td>2.347563e+05</td>\n",
       "      <td>7.146191</td>\n",
       "      <td>1152.817684</td>\n",
       "      <td>1.146692</td>\n",
       "      <td>1.007915</td>\n",
       "      <td>2.038284</td>\n",
       "      <td>47.691611</td>\n",
       "    </tr>\n",
       "    <tr>\n",
       "      <th>min</th>\n",
       "      <td>40.493233</td>\n",
       "      <td>-74.424707</td>\n",
       "      <td>46.636729</td>\n",
       "      <td>11.516505</td>\n",
       "      <td>72.639285</td>\n",
       "      <td>16554.272920</td>\n",
       "      <td>0.000000e+00</td>\n",
       "      <td>8817.000000</td>\n",
       "      <td>0.000000</td>\n",
       "      <td>0.000000</td>\n",
       "      <td>0.000000</td>\n",
       "      <td>0.000000</td>\n",
       "      <td>1800.000000</td>\n",
       "    </tr>\n",
       "    <tr>\n",
       "      <th>25%</th>\n",
       "      <td>40.514408</td>\n",
       "      <td>-74.393955</td>\n",
       "      <td>472.814825</td>\n",
       "      <td>287.314826</td>\n",
       "      <td>968.172017</td>\n",
       "      <td>20899.827405</td>\n",
       "      <td>1.925000e+05</td>\n",
       "      <td>8817.000000</td>\n",
       "      <td>0.000000</td>\n",
       "      <td>3.000000</td>\n",
       "      <td>2.000000</td>\n",
       "      <td>6.000000</td>\n",
       "      <td>2018.000000</td>\n",
       "    </tr>\n",
       "    <tr>\n",
       "      <th>50%</th>\n",
       "      <td>40.533910</td>\n",
       "      <td>-74.374721</td>\n",
       "      <td>948.209774</td>\n",
       "      <td>716.647375</td>\n",
       "      <td>1917.152528</td>\n",
       "      <td>23728.793640</td>\n",
       "      <td>3.650000e+05</td>\n",
       "      <td>8820.000000</td>\n",
       "      <td>0.000000</td>\n",
       "      <td>3.000000</td>\n",
       "      <td>2.000000</td>\n",
       "      <td>7.000000</td>\n",
       "      <td>2019.000000</td>\n",
       "    </tr>\n",
       "    <tr>\n",
       "      <th>75%</th>\n",
       "      <td>40.569632</td>\n",
       "      <td>-74.350387</td>\n",
       "      <td>1637.737223</td>\n",
       "      <td>1396.292616</td>\n",
       "      <td>3011.845677</td>\n",
       "      <td>27383.916690</td>\n",
       "      <td>5.099250e+05</td>\n",
       "      <td>8820.000000</td>\n",
       "      <td>1650.500000</td>\n",
       "      <td>4.000000</td>\n",
       "      <td>3.000000</td>\n",
       "      <td>9.000000</td>\n",
       "      <td>2020.000000</td>\n",
       "    </tr>\n",
       "    <tr>\n",
       "      <th>max</th>\n",
       "      <td>40.604701</td>\n",
       "      <td>-74.317699</td>\n",
       "      <td>4396.900472</td>\n",
       "      <td>2576.676889</td>\n",
       "      <td>5815.771806</td>\n",
       "      <td>30602.585450</td>\n",
       "      <td>1.090000e+06</td>\n",
       "      <td>8837.000000</td>\n",
       "      <td>9350.000000</td>\n",
       "      <td>6.000000</td>\n",
       "      <td>5.000000</td>\n",
       "      <td>15.000000</td>\n",
       "      <td>2021.000000</td>\n",
       "    </tr>\n",
       "  </tbody>\n",
       "</table>\n",
       "</div>"
      ],
      "text/plain": [
       "        house_lat  house_long   pwr_dis(m)  town_dis(m)   gas_dis(m)  \\\n",
       "count  443.000000  443.000000   443.000000   443.000000   443.000000   \n",
       "mean    40.541903  -74.372505  1173.978465   885.385753  2149.934697   \n",
       "std      0.031887    0.025963   885.694426   661.713943  1461.908953   \n",
       "min     40.493233  -74.424707    46.636729    11.516505    72.639285   \n",
       "25%     40.514408  -74.393955   472.814825   287.314826   968.172017   \n",
       "50%     40.533910  -74.374721   948.209774   716.647375  1917.152528   \n",
       "75%     40.569632  -74.350387  1637.737223  1396.292616  3011.845677   \n",
       "max     40.604701  -74.317699  4396.900472  2576.676889  5815.771806   \n",
       "\n",
       "        cell_dis(m)    ClosePrice   PostalCode  BuildingAreaTotal  \\\n",
       "count    443.000000  4.430000e+02   443.000000         443.000000   \n",
       "mean   24016.923595  3.502833e+05  8821.602709         864.568849   \n",
       "std     3810.349901  2.347563e+05     7.146191        1152.817684   \n",
       "min    16554.272920  0.000000e+00  8817.000000           0.000000   \n",
       "25%    20899.827405  1.925000e+05  8817.000000           0.000000   \n",
       "50%    23728.793640  3.650000e+05  8820.000000           0.000000   \n",
       "75%    27383.916690  5.099250e+05  8820.000000        1650.500000   \n",
       "max    30602.585450  1.090000e+06  8837.000000        9350.000000   \n",
       "\n",
       "       BedroomsTotal  BathroomsTotalInteger  RoomsTotal  Property_closed_year  \n",
       "count     443.000000             443.000000  438.000000            443.000000  \n",
       "mean        3.250564               2.367946    7.383562           2008.347630  \n",
       "std         1.146692               1.007915    2.038284             47.691611  \n",
       "min         0.000000               0.000000    0.000000           1800.000000  \n",
       "25%         3.000000               2.000000    6.000000           2018.000000  \n",
       "50%         3.000000               2.000000    7.000000           2019.000000  \n",
       "75%         4.000000               3.000000    9.000000           2020.000000  \n",
       "max         6.000000               5.000000   15.000000           2021.000000  "
      ]
     },
     "execution_count": 44,
     "metadata": {},
     "output_type": "execute_result"
    }
   ],
   "source": [
    "describe_closed = mls_data().describe()\n",
    "\n",
    "describe_closed"
   ]
  },
  {
   "cell_type": "markdown",
   "id": "7b0b7371",
   "metadata": {},
   "source": [
    "# Observation:\n",
    "\n",
    "From the above information, we can get the below deatils:\n",
    "\n",
    "Cell Tower line distance:\n",
    "\n",
    "> 25% of the properties has less than or average of 20km cell tower distance,\n",
    "\n",
    "> 50% of the properties has less than or average of 23.7km cell tower  distance,\n",
    "\n",
    "> 75% of the properties has less than or average 27.3km cell tower  distance.\n",
    "\n",
    "For further, we can find out how many properties were sold and what property type has more sale between 25%, 50% and 75% of cell tower distance"
   ]
  },
  {
   "cell_type": "markdown",
   "id": "a5d7377b",
   "metadata": {},
   "source": [
    "As the miminum ditance of Cell tower is 20Km, hence we dont have any cell tower near the property within 100m"
   ]
  },
  {
   "cell_type": "code",
   "execution_count": 45,
   "id": "cdbc0b54",
   "metadata": {},
   "outputs": [],
   "source": [
    "# cell_1 = cell_eda_25percent()"
   ]
  },
  {
   "cell_type": "markdown",
   "id": "8f2bcc86",
   "metadata": {},
   "source": [
    "{% include cell_eda_25percent.html %}"
   ]
  },
  {
   "cell_type": "code",
   "execution_count": 46,
   "id": "06eaa2b1",
   "metadata": {},
   "outputs": [],
   "source": [
    "# cell_2 = cell_eda_50percent()"
   ]
  },
  {
   "cell_type": "markdown",
   "id": "6c39b007",
   "metadata": {},
   "source": [
    "{% include cell_eda_50percent.html %}"
   ]
  },
  {
   "cell_type": "code",
   "execution_count": 47,
   "id": "137c6750",
   "metadata": {},
   "outputs": [],
   "source": [
    "# cell_3 = cell_eda_75percent()"
   ]
  },
  {
   "cell_type": "markdown",
   "id": "7ab405f7",
   "metadata": {},
   "source": [
    "{% include cell_eda_75percent.html %}"
   ]
  },
  {
   "cell_type": "markdown",
   "id": "c671bc6d",
   "metadata": {},
   "source": [
    "# Observation - Cell Tower distance:\n",
    "\n",
    "By oberving the sales over cell tower distance, we could see that maximum sales occured eventhough the distance between the property and power lines is more than 100m.\n",
    "\n",
    "Maximum of 30 residentail properties were sold when the cell tower distance lies between the 23km abd 27km.\n",
    "\n",
    "Cell Tower distance also not affected the sales."
   ]
  },
  {
   "cell_type": "markdown",
   "id": "eea95327",
   "metadata": {},
   "source": [
    "# Sales with Township boundary distance"
   ]
  },
  {
   "cell_type": "code",
   "execution_count": 48,
   "id": "a5e989d8",
   "metadata": {},
   "outputs": [
    {
     "data": {
      "text/html": [
       "<div>\n",
       "<style scoped>\n",
       "    .dataframe tbody tr th:only-of-type {\n",
       "        vertical-align: middle;\n",
       "    }\n",
       "\n",
       "    .dataframe tbody tr th {\n",
       "        vertical-align: top;\n",
       "    }\n",
       "\n",
       "    .dataframe thead th {\n",
       "        text-align: right;\n",
       "    }\n",
       "</style>\n",
       "<table border=\"1\" class=\"dataframe\">\n",
       "  <thead>\n",
       "    <tr style=\"text-align: right;\">\n",
       "      <th></th>\n",
       "      <th>house_lat</th>\n",
       "      <th>house_long</th>\n",
       "      <th>pwr_dis(m)</th>\n",
       "      <th>town_dis(m)</th>\n",
       "      <th>gas_dis(m)</th>\n",
       "      <th>cell_dis(m)</th>\n",
       "      <th>ClosePrice</th>\n",
       "      <th>PostalCode</th>\n",
       "      <th>BuildingAreaTotal</th>\n",
       "      <th>BedroomsTotal</th>\n",
       "      <th>BathroomsTotalInteger</th>\n",
       "      <th>RoomsTotal</th>\n",
       "      <th>Property_closed_year</th>\n",
       "    </tr>\n",
       "  </thead>\n",
       "  <tbody>\n",
       "    <tr>\n",
       "      <th>count</th>\n",
       "      <td>443.000000</td>\n",
       "      <td>443.000000</td>\n",
       "      <td>443.000000</td>\n",
       "      <td>443.000000</td>\n",
       "      <td>443.000000</td>\n",
       "      <td>443.000000</td>\n",
       "      <td>4.430000e+02</td>\n",
       "      <td>443.000000</td>\n",
       "      <td>443.000000</td>\n",
       "      <td>443.000000</td>\n",
       "      <td>443.000000</td>\n",
       "      <td>438.000000</td>\n",
       "      <td>443.000000</td>\n",
       "    </tr>\n",
       "    <tr>\n",
       "      <th>mean</th>\n",
       "      <td>40.541903</td>\n",
       "      <td>-74.372505</td>\n",
       "      <td>1173.978465</td>\n",
       "      <td>885.385753</td>\n",
       "      <td>2149.934697</td>\n",
       "      <td>24016.923595</td>\n",
       "      <td>3.502833e+05</td>\n",
       "      <td>8821.602709</td>\n",
       "      <td>864.568849</td>\n",
       "      <td>3.250564</td>\n",
       "      <td>2.367946</td>\n",
       "      <td>7.383562</td>\n",
       "      <td>2008.347630</td>\n",
       "    </tr>\n",
       "    <tr>\n",
       "      <th>std</th>\n",
       "      <td>0.031887</td>\n",
       "      <td>0.025963</td>\n",
       "      <td>885.694426</td>\n",
       "      <td>661.713943</td>\n",
       "      <td>1461.908953</td>\n",
       "      <td>3810.349901</td>\n",
       "      <td>2.347563e+05</td>\n",
       "      <td>7.146191</td>\n",
       "      <td>1152.817684</td>\n",
       "      <td>1.146692</td>\n",
       "      <td>1.007915</td>\n",
       "      <td>2.038284</td>\n",
       "      <td>47.691611</td>\n",
       "    </tr>\n",
       "    <tr>\n",
       "      <th>min</th>\n",
       "      <td>40.493233</td>\n",
       "      <td>-74.424707</td>\n",
       "      <td>46.636729</td>\n",
       "      <td>11.516505</td>\n",
       "      <td>72.639285</td>\n",
       "      <td>16554.272920</td>\n",
       "      <td>0.000000e+00</td>\n",
       "      <td>8817.000000</td>\n",
       "      <td>0.000000</td>\n",
       "      <td>0.000000</td>\n",
       "      <td>0.000000</td>\n",
       "      <td>0.000000</td>\n",
       "      <td>1800.000000</td>\n",
       "    </tr>\n",
       "    <tr>\n",
       "      <th>25%</th>\n",
       "      <td>40.514408</td>\n",
       "      <td>-74.393955</td>\n",
       "      <td>472.814825</td>\n",
       "      <td>287.314826</td>\n",
       "      <td>968.172017</td>\n",
       "      <td>20899.827405</td>\n",
       "      <td>1.925000e+05</td>\n",
       "      <td>8817.000000</td>\n",
       "      <td>0.000000</td>\n",
       "      <td>3.000000</td>\n",
       "      <td>2.000000</td>\n",
       "      <td>6.000000</td>\n",
       "      <td>2018.000000</td>\n",
       "    </tr>\n",
       "    <tr>\n",
       "      <th>50%</th>\n",
       "      <td>40.533910</td>\n",
       "      <td>-74.374721</td>\n",
       "      <td>948.209774</td>\n",
       "      <td>716.647375</td>\n",
       "      <td>1917.152528</td>\n",
       "      <td>23728.793640</td>\n",
       "      <td>3.650000e+05</td>\n",
       "      <td>8820.000000</td>\n",
       "      <td>0.000000</td>\n",
       "      <td>3.000000</td>\n",
       "      <td>2.000000</td>\n",
       "      <td>7.000000</td>\n",
       "      <td>2019.000000</td>\n",
       "    </tr>\n",
       "    <tr>\n",
       "      <th>75%</th>\n",
       "      <td>40.569632</td>\n",
       "      <td>-74.350387</td>\n",
       "      <td>1637.737223</td>\n",
       "      <td>1396.292616</td>\n",
       "      <td>3011.845677</td>\n",
       "      <td>27383.916690</td>\n",
       "      <td>5.099250e+05</td>\n",
       "      <td>8820.000000</td>\n",
       "      <td>1650.500000</td>\n",
       "      <td>4.000000</td>\n",
       "      <td>3.000000</td>\n",
       "      <td>9.000000</td>\n",
       "      <td>2020.000000</td>\n",
       "    </tr>\n",
       "    <tr>\n",
       "      <th>max</th>\n",
       "      <td>40.604701</td>\n",
       "      <td>-74.317699</td>\n",
       "      <td>4396.900472</td>\n",
       "      <td>2576.676889</td>\n",
       "      <td>5815.771806</td>\n",
       "      <td>30602.585450</td>\n",
       "      <td>1.090000e+06</td>\n",
       "      <td>8837.000000</td>\n",
       "      <td>9350.000000</td>\n",
       "      <td>6.000000</td>\n",
       "      <td>5.000000</td>\n",
       "      <td>15.000000</td>\n",
       "      <td>2021.000000</td>\n",
       "    </tr>\n",
       "  </tbody>\n",
       "</table>\n",
       "</div>"
      ],
      "text/plain": [
       "        house_lat  house_long   pwr_dis(m)  town_dis(m)   gas_dis(m)  \\\n",
       "count  443.000000  443.000000   443.000000   443.000000   443.000000   \n",
       "mean    40.541903  -74.372505  1173.978465   885.385753  2149.934697   \n",
       "std      0.031887    0.025963   885.694426   661.713943  1461.908953   \n",
       "min     40.493233  -74.424707    46.636729    11.516505    72.639285   \n",
       "25%     40.514408  -74.393955   472.814825   287.314826   968.172017   \n",
       "50%     40.533910  -74.374721   948.209774   716.647375  1917.152528   \n",
       "75%     40.569632  -74.350387  1637.737223  1396.292616  3011.845677   \n",
       "max     40.604701  -74.317699  4396.900472  2576.676889  5815.771806   \n",
       "\n",
       "        cell_dis(m)    ClosePrice   PostalCode  BuildingAreaTotal  \\\n",
       "count    443.000000  4.430000e+02   443.000000         443.000000   \n",
       "mean   24016.923595  3.502833e+05  8821.602709         864.568849   \n",
       "std     3810.349901  2.347563e+05     7.146191        1152.817684   \n",
       "min    16554.272920  0.000000e+00  8817.000000           0.000000   \n",
       "25%    20899.827405  1.925000e+05  8817.000000           0.000000   \n",
       "50%    23728.793640  3.650000e+05  8820.000000           0.000000   \n",
       "75%    27383.916690  5.099250e+05  8820.000000        1650.500000   \n",
       "max    30602.585450  1.090000e+06  8837.000000        9350.000000   \n",
       "\n",
       "       BedroomsTotal  BathroomsTotalInteger  RoomsTotal  Property_closed_year  \n",
       "count     443.000000             443.000000  438.000000            443.000000  \n",
       "mean        3.250564               2.367946    7.383562           2008.347630  \n",
       "std         1.146692               1.007915    2.038284             47.691611  \n",
       "min         0.000000               0.000000    0.000000           1800.000000  \n",
       "25%         3.000000               2.000000    6.000000           2018.000000  \n",
       "50%         3.000000               2.000000    7.000000           2019.000000  \n",
       "75%         4.000000               3.000000    9.000000           2020.000000  \n",
       "max         6.000000               5.000000   15.000000           2021.000000  "
      ]
     },
     "execution_count": 48,
     "metadata": {},
     "output_type": "execute_result"
    }
   ],
   "source": [
    "describe_closed = mls_data().describe()\n",
    "\n",
    "describe_closed"
   ]
  },
  {
   "cell_type": "markdown",
   "id": "36edaa21",
   "metadata": {},
   "source": [
    "# Observation:\n",
    "\n",
    "From the above information, we can get the below deatils:\n",
    "\n",
    "Cell Tower line distance:\n",
    "\n",
    "> 25% of the properties has less than or average of 287m township boundary distance,\n",
    "\n",
    "> 50% of the properties has less than or average of 716km township boundary  distance,\n",
    "\n",
    "> 75% of the properties has less than or average 1396m township boundary distance.\n",
    "\n",
    "For further, we can find out how many properties were sold and what property type has more sale between 25%, 50% and 75% of township boundary distance"
   ]
  },
  {
   "cell_type": "code",
   "execution_count": 49,
   "id": "1c920d16",
   "metadata": {},
   "outputs": [],
   "source": [
    "# town_100 = town_100m()"
   ]
  },
  {
   "cell_type": "markdown",
   "id": "9234e9a9",
   "metadata": {},
   "source": [
    "{% include town_100m.html %}"
   ]
  },
  {
   "cell_type": "markdown",
   "id": "d6b4364d",
   "metadata": {},
   "source": [
    "Observation:\n",
    "    \n",
    "    Maximum of 9 Residential properties were sold within 100m distance of Township boundary."
   ]
  },
  {
   "cell_type": "code",
   "execution_count": 50,
   "id": "9f141079",
   "metadata": {},
   "outputs": [],
   "source": [
    "# town1 = township_eda_25percent()"
   ]
  },
  {
   "cell_type": "markdown",
   "id": "3b8724f7",
   "metadata": {},
   "source": [
    "{% include township_eda_25percent.html %}"
   ]
  },
  {
   "cell_type": "code",
   "execution_count": 51,
   "id": "7355dd28",
   "metadata": {},
   "outputs": [],
   "source": [
    "# town2 = township_eda_50percent()"
   ]
  },
  {
   "cell_type": "markdown",
   "id": "084fb83d",
   "metadata": {},
   "source": [
    "{% include township_eda_50percent.html %}"
   ]
  },
  {
   "cell_type": "code",
   "execution_count": 52,
   "id": "70925443",
   "metadata": {},
   "outputs": [],
   "source": [
    "# town3 = township_eda_75percent()"
   ]
  },
  {
   "cell_type": "markdown",
   "id": "c215d5e2",
   "metadata": {},
   "source": [
    "{% include township_eda_75percent.html %}"
   ]
  },
  {
   "cell_type": "markdown",
   "id": "394718eb",
   "metadata": {},
   "source": [
    "# Observation - Town ship boundaries distance:\n",
    "\n",
    "By oberving the sales over Township boundary distance, maximum of 30 sales within 264m and the second hights sale betwwen 264m & 709m (28 count) and 709m & 1.3Km(28 counts).\n",
    "\n",
    "Township boundary does not affect the property sale."
   ]
  },
  {
   "cell_type": "code",
   "execution_count": 53,
   "id": "212c06ad",
   "metadata": {},
   "outputs": [],
   "source": [
    "# active_prop_count()"
   ]
  },
  {
   "cell_type": "markdown",
   "id": "1131f9fc",
   "metadata": {},
   "source": [
    "{% include active_prop_count.html %}"
   ]
  },
  {
   "cell_type": "markdown",
   "id": "c1005118",
   "metadata": {},
   "source": [
    "# Conclusion:\n",
    "    \n",
    "As we discussed earlier, we have hight amount of active property under the \"Residential\" categoty when comapared to other property type. \n",
    "\n",
    "The final thought is property sale does not affected by distance of power lines, Gas lines, Cell Towers and Township boundaries.\n",
    "\n",
    "Hence, we can make good sales on the proprties if the distance of these factors are higher than 100m.\n"
   ]
  },
  {
   "cell_type": "markdown",
   "id": "c40fb2c2",
   "metadata": {},
   "source": []
  }
 ],
 "metadata": {
  "kernelspec": {
   "display_name": "Python 3",
   "language": "python",
   "name": "python3"
  },
  "language_info": {
   "codemirror_mode": {
    "name": "ipython",
    "version": 3
   },
   "file_extension": ".py",
   "mimetype": "text/x-python",
   "name": "python",
   "nbconvert_exporter": "python",
   "pygments_lexer": "ipython3",
   "version": "3.8.8"
  }
 },
 "nbformat": 4,
 "nbformat_minor": 5
}
